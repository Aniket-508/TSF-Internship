{
  "nbformat": 4,
  "nbformat_minor": 0,
  "metadata": {
    "colab": {
      "name": "GRIP-Task3",
      "provenance": []
    },
    "kernelspec": {
      "name": "python3",
      "display_name": "Python 3"
    },
    "language_info": {
      "name": "python"
    }
  },
  "cells": [
    {
      "cell_type": "markdown",
      "metadata": {
        "id": "3PIJgm7rV-Aq"
      },
      "source": [
        "## **Graduate Rotational Internship Program**\n",
        "\n",
        "## **The Sparks Foundation**\n",
        "\n",
        "## **Task - Stock Market Prediction using Numerical and Textual Analysis**"
      ]
    },
    {
      "cell_type": "markdown",
      "metadata": {
        "id": "OgU86CVFV_-F"
      },
      "source": [
        "**Name - Aniket Pawar**\n",
        "\n",
        "**Problem Statement - Create a hybrid model for stock price/performance\n",
        "prediction using numerical analysis of historical stock prices, and\n",
        "sentimental analysis of news headlines. Stock to analyze and predict - SENSEX (S&P BSE SENSEX)** "
      ]
    },
    {
      "cell_type": "code",
      "metadata": {
        "id": "9f5sKscFWYbf"
      },
      "source": [
        "import pandas as pd\n",
        "import numpy as np\n",
        "import matplotlib.pyplot as plt\n",
        "import seaborn as sns"
      ],
      "execution_count": 1,
      "outputs": []
    },
    {
      "cell_type": "code",
      "metadata": {
        "id": "MCdIKVr2oQjU",
        "colab": {
          "base_uri": "https://localhost:8080/"
        },
        "outputId": "7c37901f-8c8b-42aa-955d-0eb2a6e046dc"
      },
      "source": [
        "!unrar x \"/content/india-news-headlines.rar\" \"/content/\""
      ],
      "execution_count": 2,
      "outputs": [
        {
          "output_type": "stream",
          "text": [
            "\n",
            "UNRAR 5.50 freeware      Copyright (c) 1993-2017 Alexander Roshal\n",
            "\n",
            "\n",
            "Extracting from /content/india-news-headlines.rar\n",
            "\n",
            "Extracting  /content/india-news-headlines.csv                            \b\b\b\b  6%\b\b\b\b 13%\b\b\b\b 20%\b\b\b\b 27%\b\b\b\b 34%\b\b\b\b 41%\b\b\b\b 48%\b\b\b\b 55%\b\b\b\b 62%\b\b\b\b 69%\b\b\b\b 76%\b\b\b\b 83%\b\b\b\b 90%\b\b\b\b 97%\b\b\b\b 99%\b\b\b\b\b  OK \n",
            "All OK\n"
          ],
          "name": "stdout"
        }
      ]
    },
    {
      "cell_type": "code",
      "metadata": {
        "id": "zz-sV256WgN1"
      },
      "source": [
        "stock_price = pd.read_csv('Stock.csv')\n",
        "stock_headlines = pd.read_csv('india-news-headlines.csv')"
      ],
      "execution_count": 4,
      "outputs": []
    },
    {
      "cell_type": "code",
      "metadata": {
        "colab": {
          "base_uri": "https://localhost:8080/",
          "height": 402
        },
        "id": "_5dBVo1Vh58z",
        "outputId": "7ac1cb14-2494-40ed-f885-5e9898a7d49b"
      },
      "source": [
        "stock_price"
      ],
      "execution_count": 5,
      "outputs": [
        {
          "output_type": "execute_result",
          "data": {
            "text/html": [
              "<div>\n",
              "<style scoped>\n",
              "    .dataframe tbody tr th:only-of-type {\n",
              "        vertical-align: middle;\n",
              "    }\n",
              "\n",
              "    .dataframe tbody tr th {\n",
              "        vertical-align: top;\n",
              "    }\n",
              "\n",
              "    .dataframe thead th {\n",
              "        text-align: right;\n",
              "    }\n",
              "</style>\n",
              "<table border=\"1\" class=\"dataframe\">\n",
              "  <thead>\n",
              "    <tr style=\"text-align: right;\">\n",
              "      <th></th>\n",
              "      <th>Date</th>\n",
              "      <th>Open</th>\n",
              "      <th>High</th>\n",
              "      <th>Low</th>\n",
              "      <th>Close</th>\n",
              "      <th>Adj Close</th>\n",
              "      <th>Volume</th>\n",
              "    </tr>\n",
              "  </thead>\n",
              "  <tbody>\n",
              "    <tr>\n",
              "      <th>0</th>\n",
              "      <td>2000-09-01</td>\n",
              "      <td>277.000000</td>\n",
              "      <td>277.000000</td>\n",
              "      <td>277.000000</td>\n",
              "      <td>277.000000</td>\n",
              "      <td>277.000000</td>\n",
              "      <td>0.0</td>\n",
              "    </tr>\n",
              "    <tr>\n",
              "      <th>1</th>\n",
              "      <td>2000-09-04</td>\n",
              "      <td>NaN</td>\n",
              "      <td>NaN</td>\n",
              "      <td>NaN</td>\n",
              "      <td>NaN</td>\n",
              "      <td>NaN</td>\n",
              "      <td>NaN</td>\n",
              "    </tr>\n",
              "    <tr>\n",
              "      <th>2</th>\n",
              "      <td>2000-09-05</td>\n",
              "      <td>275.799988</td>\n",
              "      <td>275.799988</td>\n",
              "      <td>275.799988</td>\n",
              "      <td>275.799988</td>\n",
              "      <td>275.799988</td>\n",
              "      <td>2.0</td>\n",
              "    </tr>\n",
              "    <tr>\n",
              "      <th>3</th>\n",
              "      <td>2000-09-06</td>\n",
              "      <td>274.200012</td>\n",
              "      <td>274.200012</td>\n",
              "      <td>274.200012</td>\n",
              "      <td>274.200012</td>\n",
              "      <td>274.200012</td>\n",
              "      <td>0.0</td>\n",
              "    </tr>\n",
              "    <tr>\n",
              "      <th>4</th>\n",
              "      <td>2000-09-07</td>\n",
              "      <td>274.000000</td>\n",
              "      <td>274.000000</td>\n",
              "      <td>274.000000</td>\n",
              "      <td>274.000000</td>\n",
              "      <td>274.000000</td>\n",
              "      <td>125.0</td>\n",
              "    </tr>\n",
              "    <tr>\n",
              "      <th>...</th>\n",
              "      <td>...</td>\n",
              "      <td>...</td>\n",
              "      <td>...</td>\n",
              "      <td>...</td>\n",
              "      <td>...</td>\n",
              "      <td>...</td>\n",
              "      <td>...</td>\n",
              "    </tr>\n",
              "    <tr>\n",
              "      <th>5281</th>\n",
              "      <td>2021-05-28</td>\n",
              "      <td>1897.500000</td>\n",
              "      <td>1905.400024</td>\n",
              "      <td>1881.900024</td>\n",
              "      <td>1902.500000</td>\n",
              "      <td>1902.500000</td>\n",
              "      <td>2415.0</td>\n",
              "    </tr>\n",
              "    <tr>\n",
              "      <th>5282</th>\n",
              "      <td>2021-06-01</td>\n",
              "      <td>1905.099976</td>\n",
              "      <td>1916.199951</td>\n",
              "      <td>1892.800049</td>\n",
              "      <td>1902.900024</td>\n",
              "      <td>1902.900024</td>\n",
              "      <td>640.0</td>\n",
              "    </tr>\n",
              "    <tr>\n",
              "      <th>5283</th>\n",
              "      <td>2021-06-02</td>\n",
              "      <td>1899.199951</td>\n",
              "      <td>1908.800049</td>\n",
              "      <td>1896.000000</td>\n",
              "      <td>1907.500000</td>\n",
              "      <td>1907.500000</td>\n",
              "      <td>1267.0</td>\n",
              "    </tr>\n",
              "    <tr>\n",
              "      <th>5284</th>\n",
              "      <td>2021-06-03</td>\n",
              "      <td>1908.800049</td>\n",
              "      <td>1908.800049</td>\n",
              "      <td>1865.000000</td>\n",
              "      <td>1871.199951</td>\n",
              "      <td>1871.199951</td>\n",
              "      <td>1021.0</td>\n",
              "    </tr>\n",
              "    <tr>\n",
              "      <th>5285</th>\n",
              "      <td>2021-06-04</td>\n",
              "      <td>1869.300049</td>\n",
              "      <td>1895.500000</td>\n",
              "      <td>1854.000000</td>\n",
              "      <td>1889.800049</td>\n",
              "      <td>1889.800049</td>\n",
              "      <td>1021.0</td>\n",
              "    </tr>\n",
              "  </tbody>\n",
              "</table>\n",
              "<p>5286 rows × 7 columns</p>\n",
              "</div>"
            ],
            "text/plain": [
              "            Date         Open         High  ...        Close    Adj Close  Volume\n",
              "0     2000-09-01   277.000000   277.000000  ...   277.000000   277.000000     0.0\n",
              "1     2000-09-04          NaN          NaN  ...          NaN          NaN     NaN\n",
              "2     2000-09-05   275.799988   275.799988  ...   275.799988   275.799988     2.0\n",
              "3     2000-09-06   274.200012   274.200012  ...   274.200012   274.200012     0.0\n",
              "4     2000-09-07   274.000000   274.000000  ...   274.000000   274.000000   125.0\n",
              "...          ...          ...          ...  ...          ...          ...     ...\n",
              "5281  2021-05-28  1897.500000  1905.400024  ...  1902.500000  1902.500000  2415.0\n",
              "5282  2021-06-01  1905.099976  1916.199951  ...  1902.900024  1902.900024   640.0\n",
              "5283  2021-06-02  1899.199951  1908.800049  ...  1907.500000  1907.500000  1267.0\n",
              "5284  2021-06-03  1908.800049  1908.800049  ...  1871.199951  1871.199951  1021.0\n",
              "5285  2021-06-04  1869.300049  1895.500000  ...  1889.800049  1889.800049  1021.0\n",
              "\n",
              "[5286 rows x 7 columns]"
            ]
          },
          "metadata": {
            "tags": []
          },
          "execution_count": 5
        }
      ]
    },
    {
      "cell_type": "code",
      "metadata": {
        "id": "Dbp6OLLyWgL0",
        "colab": {
          "base_uri": "https://localhost:8080/",
          "height": 402
        },
        "outputId": "88714ed9-b148-450b-d83a-91b736079521"
      },
      "source": [
        "stock_headlines"
      ],
      "execution_count": 6,
      "outputs": [
        {
          "output_type": "execute_result",
          "data": {
            "text/html": [
              "<div>\n",
              "<style scoped>\n",
              "    .dataframe tbody tr th:only-of-type {\n",
              "        vertical-align: middle;\n",
              "    }\n",
              "\n",
              "    .dataframe tbody tr th {\n",
              "        vertical-align: top;\n",
              "    }\n",
              "\n",
              "    .dataframe thead th {\n",
              "        text-align: right;\n",
              "    }\n",
              "</style>\n",
              "<table border=\"1\" class=\"dataframe\">\n",
              "  <thead>\n",
              "    <tr style=\"text-align: right;\">\n",
              "      <th></th>\n",
              "      <th>publish_date</th>\n",
              "      <th>headline_category</th>\n",
              "      <th>headline_text</th>\n",
              "    </tr>\n",
              "  </thead>\n",
              "  <tbody>\n",
              "    <tr>\n",
              "      <th>0</th>\n",
              "      <td>20010102</td>\n",
              "      <td>unknown</td>\n",
              "      <td>Status quo will not be disturbed at Ayodhya; s...</td>\n",
              "    </tr>\n",
              "    <tr>\n",
              "      <th>1</th>\n",
              "      <td>20010102</td>\n",
              "      <td>unknown</td>\n",
              "      <td>Fissures in Hurriyat over Pak visit</td>\n",
              "    </tr>\n",
              "    <tr>\n",
              "      <th>2</th>\n",
              "      <td>20010102</td>\n",
              "      <td>unknown</td>\n",
              "      <td>America's unwanted heading for India?</td>\n",
              "    </tr>\n",
              "    <tr>\n",
              "      <th>3</th>\n",
              "      <td>20010102</td>\n",
              "      <td>unknown</td>\n",
              "      <td>For bigwigs; it is destination Goa</td>\n",
              "    </tr>\n",
              "    <tr>\n",
              "      <th>4</th>\n",
              "      <td>20010102</td>\n",
              "      <td>unknown</td>\n",
              "      <td>Extra buses to clear tourist traffic</td>\n",
              "    </tr>\n",
              "    <tr>\n",
              "      <th>...</th>\n",
              "      <td>...</td>\n",
              "      <td>...</td>\n",
              "      <td>...</td>\n",
              "    </tr>\n",
              "    <tr>\n",
              "      <th>3424062</th>\n",
              "      <td>20201231</td>\n",
              "      <td>city.jodhpur</td>\n",
              "      <td>Covid-19: Despite dip in cases; Rajasthan amon...</td>\n",
              "    </tr>\n",
              "    <tr>\n",
              "      <th>3424063</th>\n",
              "      <td>20201231</td>\n",
              "      <td>city.udaipur</td>\n",
              "      <td>Covid-19: Despite dip in cases; Rajasthan amon...</td>\n",
              "    </tr>\n",
              "    <tr>\n",
              "      <th>3424064</th>\n",
              "      <td>20201231</td>\n",
              "      <td>city.ajmer</td>\n",
              "      <td>Covid-19: Despite dip in cases; Rajasthan amon...</td>\n",
              "    </tr>\n",
              "    <tr>\n",
              "      <th>3424065</th>\n",
              "      <td>20201231</td>\n",
              "      <td>removed</td>\n",
              "      <td>Govt extends deadline for use of FASTag till F...</td>\n",
              "    </tr>\n",
              "    <tr>\n",
              "      <th>3424066</th>\n",
              "      <td>20201231</td>\n",
              "      <td>entertainment.bengali.movies.news</td>\n",
              "      <td>Celebs plan to party safely and responsibly on...</td>\n",
              "    </tr>\n",
              "  </tbody>\n",
              "</table>\n",
              "<p>3424067 rows × 3 columns</p>\n",
              "</div>"
            ],
            "text/plain": [
              "         publish_date  ...                                      headline_text\n",
              "0            20010102  ...  Status quo will not be disturbed at Ayodhya; s...\n",
              "1            20010102  ...                Fissures in Hurriyat over Pak visit\n",
              "2            20010102  ...              America's unwanted heading for India?\n",
              "3            20010102  ...                 For bigwigs; it is destination Goa\n",
              "4            20010102  ...               Extra buses to clear tourist traffic\n",
              "...               ...  ...                                                ...\n",
              "3424062      20201231  ...  Covid-19: Despite dip in cases; Rajasthan amon...\n",
              "3424063      20201231  ...  Covid-19: Despite dip in cases; Rajasthan amon...\n",
              "3424064      20201231  ...  Covid-19: Despite dip in cases; Rajasthan amon...\n",
              "3424065      20201231  ...  Govt extends deadline for use of FASTag till F...\n",
              "3424066      20201231  ...  Celebs plan to party safely and responsibly on...\n",
              "\n",
              "[3424067 rows x 3 columns]"
            ]
          },
          "metadata": {
            "tags": []
          },
          "execution_count": 6
        }
      ]
    },
    {
      "cell_type": "code",
      "metadata": {
        "id": "Hk2Xoy6cWgHl",
        "colab": {
          "base_uri": "https://localhost:8080/"
        },
        "outputId": "f9db5f67-c5cb-4d23-8ef3-cb8a5e5898e6"
      },
      "source": [
        "print(stock_headlines['publish_date'].dtype)\n",
        "print(stock_price['Date'].dtype) #needs to be converted to datetime"
      ],
      "execution_count": 7,
      "outputs": [
        {
          "output_type": "stream",
          "text": [
            "int64\n",
            "object\n"
          ],
          "name": "stdout"
        }
      ]
    },
    {
      "cell_type": "code",
      "metadata": {
        "id": "Ok1N2o6PWgDy",
        "colab": {
          "base_uri": "https://localhost:8080/"
        },
        "outputId": "090af012-d5d5-4200-942b-baa3c602263d"
      },
      "source": [
        "len(stock_price), len(stock_headlines)"
      ],
      "execution_count": 8,
      "outputs": [
        {
          "output_type": "execute_result",
          "data": {
            "text/plain": [
              "(5286, 3424067)"
            ]
          },
          "metadata": {
            "tags": []
          },
          "execution_count": 8
        }
      ]
    },
    {
      "cell_type": "code",
      "metadata": {
        "id": "eH1AeBXIWgBU"
      },
      "source": [
        "#dropping null and duplicate entries in our data\n",
        "stock_price.dropna(inplace = True)\n",
        "stock_price = stock_price.drop_duplicates()\n",
        "stock_headlines.dropna(inplace = True)\n",
        "stock_headlines = stock_headlines.drop_duplicates()"
      ],
      "execution_count": 9,
      "outputs": []
    },
    {
      "cell_type": "code",
      "metadata": {
        "id": "4DF2QT9AWf-j",
        "colab": {
          "base_uri": "https://localhost:8080/"
        },
        "outputId": "ce195951-7e1f-42f3-cb75-861b905c86d9"
      },
      "source": [
        "len(stock_price), len(stock_headlines)"
      ],
      "execution_count": 10,
      "outputs": [
        {
          "output_type": "execute_result",
          "data": {
            "text/plain": [
              "(5174, 3399876)"
            ]
          },
          "metadata": {
            "tags": []
          },
          "execution_count": 10
        }
      ]
    },
    {
      "cell_type": "markdown",
      "metadata": {
        "id": "5VE0feK7YI_K"
      },
      "source": [
        "Stock Price"
      ]
    },
    {
      "cell_type": "code",
      "metadata": {
        "id": "NwSCyjvGWf6p",
        "colab": {
          "base_uri": "https://localhost:8080/",
          "height": 431
        },
        "outputId": "a4008562-93ac-4f8f-dfca-f10d96c9d40b"
      },
      "source": [
        "# converting the datatype of column 'Date' from type object to type 'datetime'\n",
        "stock_price['Date'] = pd.to_datetime(stock_price['Date']).dt.normalize()\n",
        "\n",
        "# filtering the important columns\n",
        "stock_price = stock_price.filter(['Date', 'Close', 'Open', 'High', 'Low', 'Volume'])\n",
        "\n",
        "#setting column 'Date' as the index column\n",
        "stock_price.set_index('Date', inplace= True)\n",
        "\n",
        "# sorting the data according to Date\n",
        "stock_price = stock_price.sort_index(ascending=True, axis=0)\n",
        "stock_price"
      ],
      "execution_count": 11,
      "outputs": [
        {
          "output_type": "execute_result",
          "data": {
            "text/html": [
              "<div>\n",
              "<style scoped>\n",
              "    .dataframe tbody tr th:only-of-type {\n",
              "        vertical-align: middle;\n",
              "    }\n",
              "\n",
              "    .dataframe tbody tr th {\n",
              "        vertical-align: top;\n",
              "    }\n",
              "\n",
              "    .dataframe thead th {\n",
              "        text-align: right;\n",
              "    }\n",
              "</style>\n",
              "<table border=\"1\" class=\"dataframe\">\n",
              "  <thead>\n",
              "    <tr style=\"text-align: right;\">\n",
              "      <th></th>\n",
              "      <th>Close</th>\n",
              "      <th>Open</th>\n",
              "      <th>High</th>\n",
              "      <th>Low</th>\n",
              "      <th>Volume</th>\n",
              "    </tr>\n",
              "    <tr>\n",
              "      <th>Date</th>\n",
              "      <th></th>\n",
              "      <th></th>\n",
              "      <th></th>\n",
              "      <th></th>\n",
              "      <th></th>\n",
              "    </tr>\n",
              "  </thead>\n",
              "  <tbody>\n",
              "    <tr>\n",
              "      <th>2000-09-01</th>\n",
              "      <td>277.000000</td>\n",
              "      <td>277.000000</td>\n",
              "      <td>277.000000</td>\n",
              "      <td>277.000000</td>\n",
              "      <td>0.0</td>\n",
              "    </tr>\n",
              "    <tr>\n",
              "      <th>2000-09-05</th>\n",
              "      <td>275.799988</td>\n",
              "      <td>275.799988</td>\n",
              "      <td>275.799988</td>\n",
              "      <td>275.799988</td>\n",
              "      <td>2.0</td>\n",
              "    </tr>\n",
              "    <tr>\n",
              "      <th>2000-09-06</th>\n",
              "      <td>274.200012</td>\n",
              "      <td>274.200012</td>\n",
              "      <td>274.200012</td>\n",
              "      <td>274.200012</td>\n",
              "      <td>0.0</td>\n",
              "    </tr>\n",
              "    <tr>\n",
              "      <th>2000-09-07</th>\n",
              "      <td>274.000000</td>\n",
              "      <td>274.000000</td>\n",
              "      <td>274.000000</td>\n",
              "      <td>274.000000</td>\n",
              "      <td>125.0</td>\n",
              "    </tr>\n",
              "    <tr>\n",
              "      <th>2000-09-08</th>\n",
              "      <td>273.299988</td>\n",
              "      <td>273.299988</td>\n",
              "      <td>273.299988</td>\n",
              "      <td>273.299988</td>\n",
              "      <td>0.0</td>\n",
              "    </tr>\n",
              "    <tr>\n",
              "      <th>...</th>\n",
              "      <td>...</td>\n",
              "      <td>...</td>\n",
              "      <td>...</td>\n",
              "      <td>...</td>\n",
              "      <td>...</td>\n",
              "    </tr>\n",
              "    <tr>\n",
              "      <th>2021-05-28</th>\n",
              "      <td>1902.500000</td>\n",
              "      <td>1897.500000</td>\n",
              "      <td>1905.400024</td>\n",
              "      <td>1881.900024</td>\n",
              "      <td>2415.0</td>\n",
              "    </tr>\n",
              "    <tr>\n",
              "      <th>2021-06-01</th>\n",
              "      <td>1902.900024</td>\n",
              "      <td>1905.099976</td>\n",
              "      <td>1916.199951</td>\n",
              "      <td>1892.800049</td>\n",
              "      <td>640.0</td>\n",
              "    </tr>\n",
              "    <tr>\n",
              "      <th>2021-06-02</th>\n",
              "      <td>1907.500000</td>\n",
              "      <td>1899.199951</td>\n",
              "      <td>1908.800049</td>\n",
              "      <td>1896.000000</td>\n",
              "      <td>1267.0</td>\n",
              "    </tr>\n",
              "    <tr>\n",
              "      <th>2021-06-03</th>\n",
              "      <td>1871.199951</td>\n",
              "      <td>1908.800049</td>\n",
              "      <td>1908.800049</td>\n",
              "      <td>1865.000000</td>\n",
              "      <td>1021.0</td>\n",
              "    </tr>\n",
              "    <tr>\n",
              "      <th>2021-06-04</th>\n",
              "      <td>1889.800049</td>\n",
              "      <td>1869.300049</td>\n",
              "      <td>1895.500000</td>\n",
              "      <td>1854.000000</td>\n",
              "      <td>1021.0</td>\n",
              "    </tr>\n",
              "  </tbody>\n",
              "</table>\n",
              "<p>5174 rows × 5 columns</p>\n",
              "</div>"
            ],
            "text/plain": [
              "                  Close         Open         High          Low  Volume\n",
              "Date                                                                  \n",
              "2000-09-01   277.000000   277.000000   277.000000   277.000000     0.0\n",
              "2000-09-05   275.799988   275.799988   275.799988   275.799988     2.0\n",
              "2000-09-06   274.200012   274.200012   274.200012   274.200012     0.0\n",
              "2000-09-07   274.000000   274.000000   274.000000   274.000000   125.0\n",
              "2000-09-08   273.299988   273.299988   273.299988   273.299988     0.0\n",
              "...                 ...          ...          ...          ...     ...\n",
              "2021-05-28  1902.500000  1897.500000  1905.400024  1881.900024  2415.0\n",
              "2021-06-01  1902.900024  1905.099976  1916.199951  1892.800049   640.0\n",
              "2021-06-02  1907.500000  1899.199951  1908.800049  1896.000000  1267.0\n",
              "2021-06-03  1871.199951  1908.800049  1908.800049  1865.000000  1021.0\n",
              "2021-06-04  1889.800049  1869.300049  1895.500000  1854.000000  1021.0\n",
              "\n",
              "[5174 rows x 5 columns]"
            ]
          },
          "metadata": {
            "tags": []
          },
          "execution_count": 11
        }
      ]
    },
    {
      "cell_type": "markdown",
      "metadata": {
        "id": "GIWej9I0YJAq"
      },
      "source": [
        "Stock Headlines"
      ]
    },
    {
      "cell_type": "code",
      "metadata": {
        "id": "KFbVgclTWf4C",
        "colab": {
          "base_uri": "https://localhost:8080/",
          "height": 734
        },
        "outputId": "bfdf09cb-5fa2-4f71-933f-d82e20adc943"
      },
      "source": [
        "# converting the datatype of column 'Date' from type string to type 'datetime'\n",
        "stock_headlines['publish_date'] = stock_headlines['publish_date'].astype(str)\n",
        "stock_headlines['publish_date'] = stock_headlines['publish_date'].apply(lambda x: x[0:4]+'-'+x[4:6]+'-'+x[6:8])\n",
        "stock_headlines['publish_date'] = pd.to_datetime(stock_headlines['publish_date']).dt.normalize()\n",
        "\n",
        "# filtering the important columns \n",
        "stock_headlines = stock_headlines.filter(['publish_date', 'headline_text'])\n",
        "\n",
        "# grouping the news headlines according to Date\n",
        "stock_headlines = stock_headlines.groupby(['publish_date'])['headline_text'].apply(lambda x: ','.join(x)).reset_index()\n",
        "\n",
        "# setting Date as the index column\n",
        "stock_headlines.set_index('publish_date', inplace= True)\n",
        "\n",
        "# sorting the data according to the Date\n",
        "stock_headlines = stock_headlines.sort_index(ascending=True, axis=0)\n",
        "stock_headlines"
      ],
      "execution_count": 12,
      "outputs": [
        {
          "output_type": "stream",
          "text": [
            "/usr/local/lib/python3.7/dist-packages/ipykernel_launcher.py:2: SettingWithCopyWarning: \n",
            "A value is trying to be set on a copy of a slice from a DataFrame.\n",
            "Try using .loc[row_indexer,col_indexer] = value instead\n",
            "\n",
            "See the caveats in the documentation: https://pandas.pydata.org/pandas-docs/stable/user_guide/indexing.html#returning-a-view-versus-a-copy\n",
            "  \n",
            "/usr/local/lib/python3.7/dist-packages/ipykernel_launcher.py:3: SettingWithCopyWarning: \n",
            "A value is trying to be set on a copy of a slice from a DataFrame.\n",
            "Try using .loc[row_indexer,col_indexer] = value instead\n",
            "\n",
            "See the caveats in the documentation: https://pandas.pydata.org/pandas-docs/stable/user_guide/indexing.html#returning-a-view-versus-a-copy\n",
            "  This is separate from the ipykernel package so we can avoid doing imports until\n",
            "/usr/local/lib/python3.7/dist-packages/ipykernel_launcher.py:4: SettingWithCopyWarning: \n",
            "A value is trying to be set on a copy of a slice from a DataFrame.\n",
            "Try using .loc[row_indexer,col_indexer] = value instead\n",
            "\n",
            "See the caveats in the documentation: https://pandas.pydata.org/pandas-docs/stable/user_guide/indexing.html#returning-a-view-versus-a-copy\n",
            "  after removing the cwd from sys.path.\n"
          ],
          "name": "stderr"
        },
        {
          "output_type": "execute_result",
          "data": {
            "text/html": [
              "<div>\n",
              "<style scoped>\n",
              "    .dataframe tbody tr th:only-of-type {\n",
              "        vertical-align: middle;\n",
              "    }\n",
              "\n",
              "    .dataframe tbody tr th {\n",
              "        vertical-align: top;\n",
              "    }\n",
              "\n",
              "    .dataframe thead th {\n",
              "        text-align: right;\n",
              "    }\n",
              "</style>\n",
              "<table border=\"1\" class=\"dataframe\">\n",
              "  <thead>\n",
              "    <tr style=\"text-align: right;\">\n",
              "      <th></th>\n",
              "      <th>headline_text</th>\n",
              "    </tr>\n",
              "    <tr>\n",
              "      <th>publish_date</th>\n",
              "      <th></th>\n",
              "    </tr>\n",
              "  </thead>\n",
              "  <tbody>\n",
              "    <tr>\n",
              "      <th>2001-01-02</th>\n",
              "      <td>Status quo will not be disturbed at Ayodhya; s...</td>\n",
              "    </tr>\n",
              "    <tr>\n",
              "      <th>2001-01-03</th>\n",
              "      <td>Powerless north India gropes in the dark,Think...</td>\n",
              "    </tr>\n",
              "    <tr>\n",
              "      <th>2001-01-04</th>\n",
              "      <td>The string that pulled Stephen Hawking to Indi...</td>\n",
              "    </tr>\n",
              "    <tr>\n",
              "      <th>2001-01-05</th>\n",
              "      <td>Light combat craft takes India into club class...</td>\n",
              "    </tr>\n",
              "    <tr>\n",
              "      <th>2001-01-06</th>\n",
              "      <td>Light combat craft takes India into club class...</td>\n",
              "    </tr>\n",
              "    <tr>\n",
              "      <th>...</th>\n",
              "      <td>...</td>\n",
              "    </tr>\n",
              "    <tr>\n",
              "      <th>2020-12-27</th>\n",
              "      <td>#BigInterview! Dhritiman Chatterjee: Nobody da...</td>\n",
              "    </tr>\n",
              "    <tr>\n",
              "      <th>2020-12-28</th>\n",
              "      <td>Horoscope Today; 28 December 2020: Check astro...</td>\n",
              "    </tr>\n",
              "    <tr>\n",
              "      <th>2020-12-29</th>\n",
              "      <td>Man recovers charred remains of 'thief' from h...</td>\n",
              "    </tr>\n",
              "    <tr>\n",
              "      <th>2020-12-30</th>\n",
              "      <td>Numerology Readings 30 December 2020: Predicti...</td>\n",
              "    </tr>\n",
              "    <tr>\n",
              "      <th>2020-12-31</th>\n",
              "      <td>Horoscope Today; 31 December 2020: Check astro...</td>\n",
              "    </tr>\n",
              "  </tbody>\n",
              "</table>\n",
              "<p>7262 rows × 1 columns</p>\n",
              "</div>"
            ],
            "text/plain": [
              "                                                  headline_text\n",
              "publish_date                                                   \n",
              "2001-01-02    Status quo will not be disturbed at Ayodhya; s...\n",
              "2001-01-03    Powerless north India gropes in the dark,Think...\n",
              "2001-01-04    The string that pulled Stephen Hawking to Indi...\n",
              "2001-01-05    Light combat craft takes India into club class...\n",
              "2001-01-06    Light combat craft takes India into club class...\n",
              "...                                                         ...\n",
              "2020-12-27    #BigInterview! Dhritiman Chatterjee: Nobody da...\n",
              "2020-12-28    Horoscope Today; 28 December 2020: Check astro...\n",
              "2020-12-29    Man recovers charred remains of 'thief' from h...\n",
              "2020-12-30    Numerology Readings 30 December 2020: Predicti...\n",
              "2020-12-31    Horoscope Today; 31 December 2020: Check astro...\n",
              "\n",
              "[7262 rows x 1 columns]"
            ]
          },
          "metadata": {
            "tags": []
          },
          "execution_count": 12
        }
      ]
    },
    {
      "cell_type": "code",
      "metadata": {
        "id": "sSpk0tPuWf1i"
      },
      "source": [
        "from textblob import TextBlob\n",
        "polarity = []\n",
        "subjectivity = []\n",
        "for idx, row in stock_headlines.iterrows():\n",
        "  polarity.append(TextBlob(row['headline_text']).sentiment[0])\n",
        "  subjectivity.append(TextBlob(row['headline_text']).sentiment[1])"
      ],
      "execution_count": 13,
      "outputs": []
    },
    {
      "cell_type": "code",
      "metadata": {
        "id": "1DgDLMynW6vs",
        "colab": {
          "base_uri": "https://localhost:8080/",
          "height": 431
        },
        "outputId": "7f2e4d0f-b51a-414b-c2dd-91c34b6c57a4"
      },
      "source": [
        "stock_headlines['polarity'] = polarity\n",
        "stock_headlines['subjectivity'] = subjectivity\n",
        "stock_headlines"
      ],
      "execution_count": 14,
      "outputs": [
        {
          "output_type": "execute_result",
          "data": {
            "text/html": [
              "<div>\n",
              "<style scoped>\n",
              "    .dataframe tbody tr th:only-of-type {\n",
              "        vertical-align: middle;\n",
              "    }\n",
              "\n",
              "    .dataframe tbody tr th {\n",
              "        vertical-align: top;\n",
              "    }\n",
              "\n",
              "    .dataframe thead th {\n",
              "        text-align: right;\n",
              "    }\n",
              "</style>\n",
              "<table border=\"1\" class=\"dataframe\">\n",
              "  <thead>\n",
              "    <tr style=\"text-align: right;\">\n",
              "      <th></th>\n",
              "      <th>headline_text</th>\n",
              "      <th>polarity</th>\n",
              "      <th>subjectivity</th>\n",
              "    </tr>\n",
              "    <tr>\n",
              "      <th>publish_date</th>\n",
              "      <th></th>\n",
              "      <th></th>\n",
              "      <th></th>\n",
              "    </tr>\n",
              "  </thead>\n",
              "  <tbody>\n",
              "    <tr>\n",
              "      <th>2001-01-02</th>\n",
              "      <td>Status quo will not be disturbed at Ayodhya; s...</td>\n",
              "      <td>0.148485</td>\n",
              "      <td>0.240909</td>\n",
              "    </tr>\n",
              "    <tr>\n",
              "      <th>2001-01-03</th>\n",
              "      <td>Powerless north India gropes in the dark,Think...</td>\n",
              "      <td>0.108333</td>\n",
              "      <td>0.458333</td>\n",
              "    </tr>\n",
              "    <tr>\n",
              "      <th>2001-01-04</th>\n",
              "      <td>The string that pulled Stephen Hawking to Indi...</td>\n",
              "      <td>0.115404</td>\n",
              "      <td>0.512342</td>\n",
              "    </tr>\n",
              "    <tr>\n",
              "      <th>2001-01-05</th>\n",
              "      <td>Light combat craft takes India into club class...</td>\n",
              "      <td>0.257045</td>\n",
              "      <td>0.462652</td>\n",
              "    </tr>\n",
              "    <tr>\n",
              "      <th>2001-01-06</th>\n",
              "      <td>Light combat craft takes India into club class...</td>\n",
              "      <td>0.219481</td>\n",
              "      <td>0.464935</td>\n",
              "    </tr>\n",
              "    <tr>\n",
              "      <th>...</th>\n",
              "      <td>...</td>\n",
              "      <td>...</td>\n",
              "      <td>...</td>\n",
              "    </tr>\n",
              "    <tr>\n",
              "      <th>2020-12-27</th>\n",
              "      <td>#BigInterview! Dhritiman Chatterjee: Nobody da...</td>\n",
              "      <td>0.044470</td>\n",
              "      <td>0.407395</td>\n",
              "    </tr>\n",
              "    <tr>\n",
              "      <th>2020-12-28</th>\n",
              "      <td>Horoscope Today; 28 December 2020: Check astro...</td>\n",
              "      <td>0.081137</td>\n",
              "      <td>0.417158</td>\n",
              "    </tr>\n",
              "    <tr>\n",
              "      <th>2020-12-29</th>\n",
              "      <td>Man recovers charred remains of 'thief' from h...</td>\n",
              "      <td>0.066816</td>\n",
              "      <td>0.412775</td>\n",
              "    </tr>\n",
              "    <tr>\n",
              "      <th>2020-12-30</th>\n",
              "      <td>Numerology Readings 30 December 2020: Predicti...</td>\n",
              "      <td>0.058847</td>\n",
              "      <td>0.433598</td>\n",
              "    </tr>\n",
              "    <tr>\n",
              "      <th>2020-12-31</th>\n",
              "      <td>Horoscope Today; 31 December 2020: Check astro...</td>\n",
              "      <td>0.100443</td>\n",
              "      <td>0.392380</td>\n",
              "    </tr>\n",
              "  </tbody>\n",
              "</table>\n",
              "<p>7262 rows × 3 columns</p>\n",
              "</div>"
            ],
            "text/plain": [
              "                                                  headline_text  ...  subjectivity\n",
              "publish_date                                                     ...              \n",
              "2001-01-02    Status quo will not be disturbed at Ayodhya; s...  ...      0.240909\n",
              "2001-01-03    Powerless north India gropes in the dark,Think...  ...      0.458333\n",
              "2001-01-04    The string that pulled Stephen Hawking to Indi...  ...      0.512342\n",
              "2001-01-05    Light combat craft takes India into club class...  ...      0.462652\n",
              "2001-01-06    Light combat craft takes India into club class...  ...      0.464935\n",
              "...                                                         ...  ...           ...\n",
              "2020-12-27    #BigInterview! Dhritiman Chatterjee: Nobody da...  ...      0.407395\n",
              "2020-12-28    Horoscope Today; 28 December 2020: Check astro...  ...      0.417158\n",
              "2020-12-29    Man recovers charred remains of 'thief' from h...  ...      0.412775\n",
              "2020-12-30    Numerology Readings 30 December 2020: Predicti...  ...      0.433598\n",
              "2020-12-31    Horoscope Today; 31 December 2020: Check astro...  ...      0.392380\n",
              "\n",
              "[7262 rows x 3 columns]"
            ]
          },
          "metadata": {
            "tags": []
          },
          "execution_count": 14
        }
      ]
    },
    {
      "cell_type": "code",
      "metadata": {
        "id": "kmk2N_MXW6s4",
        "colab": {
          "base_uri": "https://localhost:8080/",
          "height": 402
        },
        "outputId": "51c3b1a4-be19-4a4b-f581-8c0ff8fd13c8"
      },
      "source": [
        "# concatenation of the datasets stock_price and stock_headlines\n",
        "stock_data = pd.concat([stock_price, stock_headlines], axis=1)\n",
        "stock_data.dropna(axis=0, inplace=True)\n",
        "\n",
        "# displaying the combined stock_data\n",
        "stock_data"
      ],
      "execution_count": 15,
      "outputs": [
        {
          "output_type": "execute_result",
          "data": {
            "text/html": [
              "<div>\n",
              "<style scoped>\n",
              "    .dataframe tbody tr th:only-of-type {\n",
              "        vertical-align: middle;\n",
              "    }\n",
              "\n",
              "    .dataframe tbody tr th {\n",
              "        vertical-align: top;\n",
              "    }\n",
              "\n",
              "    .dataframe thead th {\n",
              "        text-align: right;\n",
              "    }\n",
              "</style>\n",
              "<table border=\"1\" class=\"dataframe\">\n",
              "  <thead>\n",
              "    <tr style=\"text-align: right;\">\n",
              "      <th></th>\n",
              "      <th>Close</th>\n",
              "      <th>Open</th>\n",
              "      <th>High</th>\n",
              "      <th>Low</th>\n",
              "      <th>Volume</th>\n",
              "      <th>headline_text</th>\n",
              "      <th>polarity</th>\n",
              "      <th>subjectivity</th>\n",
              "    </tr>\n",
              "  </thead>\n",
              "  <tbody>\n",
              "    <tr>\n",
              "      <th>2001-01-02</th>\n",
              "      <td>268.399994</td>\n",
              "      <td>268.399994</td>\n",
              "      <td>268.399994</td>\n",
              "      <td>268.399994</td>\n",
              "      <td>0.0</td>\n",
              "      <td>Status quo will not be disturbed at Ayodhya; s...</td>\n",
              "      <td>0.148485</td>\n",
              "      <td>0.240909</td>\n",
              "    </tr>\n",
              "    <tr>\n",
              "      <th>2001-01-03</th>\n",
              "      <td>268.000000</td>\n",
              "      <td>268.000000</td>\n",
              "      <td>268.000000</td>\n",
              "      <td>268.000000</td>\n",
              "      <td>1.0</td>\n",
              "      <td>Powerless north India gropes in the dark,Think...</td>\n",
              "      <td>0.108333</td>\n",
              "      <td>0.458333</td>\n",
              "    </tr>\n",
              "    <tr>\n",
              "      <th>2001-01-04</th>\n",
              "      <td>267.299988</td>\n",
              "      <td>267.299988</td>\n",
              "      <td>267.299988</td>\n",
              "      <td>267.299988</td>\n",
              "      <td>1.0</td>\n",
              "      <td>The string that pulled Stephen Hawking to Indi...</td>\n",
              "      <td>0.115404</td>\n",
              "      <td>0.512342</td>\n",
              "    </tr>\n",
              "    <tr>\n",
              "      <th>2001-01-05</th>\n",
              "      <td>268.000000</td>\n",
              "      <td>268.000000</td>\n",
              "      <td>268.000000</td>\n",
              "      <td>268.000000</td>\n",
              "      <td>0.0</td>\n",
              "      <td>Light combat craft takes India into club class...</td>\n",
              "      <td>0.257045</td>\n",
              "      <td>0.462652</td>\n",
              "    </tr>\n",
              "    <tr>\n",
              "      <th>2001-01-08</th>\n",
              "      <td>268.000000</td>\n",
              "      <td>268.000000</td>\n",
              "      <td>268.000000</td>\n",
              "      <td>268.000000</td>\n",
              "      <td>0.0</td>\n",
              "      <td>Sangh Parivar; Babri panel up the ante,Frontru...</td>\n",
              "      <td>0.013447</td>\n",
              "      <td>0.316351</td>\n",
              "    </tr>\n",
              "    <tr>\n",
              "      <th>...</th>\n",
              "      <td>...</td>\n",
              "      <td>...</td>\n",
              "      <td>...</td>\n",
              "      <td>...</td>\n",
              "      <td>...</td>\n",
              "      <td>...</td>\n",
              "      <td>...</td>\n",
              "      <td>...</td>\n",
              "    </tr>\n",
              "    <tr>\n",
              "      <th>2020-12-23</th>\n",
              "      <td>1874.699951</td>\n",
              "      <td>1867.000000</td>\n",
              "      <td>1878.800049</td>\n",
              "      <td>1864.500000</td>\n",
              "      <td>82.0</td>\n",
              "      <td>Sawmill in Makarpura GIDC gutted; none hurt,Ci...</td>\n",
              "      <td>0.081997</td>\n",
              "      <td>0.392756</td>\n",
              "    </tr>\n",
              "    <tr>\n",
              "      <th>2020-12-28</th>\n",
              "      <td>1877.199951</td>\n",
              "      <td>1895.500000</td>\n",
              "      <td>1895.800049</td>\n",
              "      <td>1873.699951</td>\n",
              "      <td>75.0</td>\n",
              "      <td>Horoscope Today; 28 December 2020: Check astro...</td>\n",
              "      <td>0.081137</td>\n",
              "      <td>0.417158</td>\n",
              "    </tr>\n",
              "    <tr>\n",
              "      <th>2020-12-29</th>\n",
              "      <td>1879.699951</td>\n",
              "      <td>1881.300049</td>\n",
              "      <td>1881.300049</td>\n",
              "      <td>1879.699951</td>\n",
              "      <td>343.0</td>\n",
              "      <td>Man recovers charred remains of 'thief' from h...</td>\n",
              "      <td>0.066816</td>\n",
              "      <td>0.412775</td>\n",
              "    </tr>\n",
              "    <tr>\n",
              "      <th>2020-12-30</th>\n",
              "      <td>1891.000000</td>\n",
              "      <td>1879.900024</td>\n",
              "      <td>1895.800049</td>\n",
              "      <td>1877.300049</td>\n",
              "      <td>444.0</td>\n",
              "      <td>Numerology Readings 30 December 2020: Predicti...</td>\n",
              "      <td>0.058847</td>\n",
              "      <td>0.433598</td>\n",
              "    </tr>\n",
              "    <tr>\n",
              "      <th>2020-12-31</th>\n",
              "      <td>1893.099976</td>\n",
              "      <td>1897.000000</td>\n",
              "      <td>1901.300049</td>\n",
              "      <td>1892.699951</td>\n",
              "      <td>127.0</td>\n",
              "      <td>Horoscope Today; 31 December 2020: Check astro...</td>\n",
              "      <td>0.100443</td>\n",
              "      <td>0.392380</td>\n",
              "    </tr>\n",
              "  </tbody>\n",
              "</table>\n",
              "<p>4958 rows × 8 columns</p>\n",
              "</div>"
            ],
            "text/plain": [
              "                  Close         Open  ...  polarity  subjectivity\n",
              "2001-01-02   268.399994   268.399994  ...  0.148485      0.240909\n",
              "2001-01-03   268.000000   268.000000  ...  0.108333      0.458333\n",
              "2001-01-04   267.299988   267.299988  ...  0.115404      0.512342\n",
              "2001-01-05   268.000000   268.000000  ...  0.257045      0.462652\n",
              "2001-01-08   268.000000   268.000000  ...  0.013447      0.316351\n",
              "...                 ...          ...  ...       ...           ...\n",
              "2020-12-23  1874.699951  1867.000000  ...  0.081997      0.392756\n",
              "2020-12-28  1877.199951  1895.500000  ...  0.081137      0.417158\n",
              "2020-12-29  1879.699951  1881.300049  ...  0.066816      0.412775\n",
              "2020-12-30  1891.000000  1879.900024  ...  0.058847      0.433598\n",
              "2020-12-31  1893.099976  1897.000000  ...  0.100443      0.392380\n",
              "\n",
              "[4958 rows x 8 columns]"
            ]
          },
          "metadata": {
            "tags": []
          },
          "execution_count": 15
        }
      ]
    },
    {
      "cell_type": "markdown",
      "metadata": {
        "id": "84KgdPIyYDxR"
      },
      "source": [
        "Stock Data Analysis"
      ]
    },
    {
      "cell_type": "code",
      "metadata": {
        "id": "zYifrIF-W6r6",
        "colab": {
          "base_uri": "https://localhost:8080/",
          "height": 596
        },
        "outputId": "108edabd-6e47-455c-8a10-2a2caa14f0c2"
      },
      "source": [
        "plt.figure(figsize=(15,10))\n",
        "stock_data['Close'].plot()\n",
        "\n",
        "plt.title(\"Close Price\")\n",
        "plt.xlabel('Date')\n",
        "plt.ylabel('Close Price (INR)')"
      ],
      "execution_count": 16,
      "outputs": [
        {
          "output_type": "execute_result",
          "data": {
            "text/plain": [
              "Text(0, 0.5, 'Close Price (INR)')"
            ]
          },
          "metadata": {
            "tags": []
          },
          "execution_count": 16
        },
        {
          "output_type": "display_data",
          "data": {
            "image/png": "[encoded data removed]",
            "text/plain": [
              "<Figure size 1080x720 with 1 Axes>"
            ]
          },
          "metadata": {
            "tags": [],
            "needs_background": "light"
          }
        }
      ]
    },
    {
      "cell_type": "code",
      "metadata": {
        "id": "g--JH70JW6qK",
        "colab": {
          "base_uri": "https://localhost:8080/",
          "height": 639
        },
        "outputId": "5aac7660-554b-41f3-8fba-8daea762e8eb"
      },
      "source": [
        "# calculating 7 day rolling mean\n",
        "stock_data.rolling(7).mean().head(20)"
      ],
      "execution_count": 17,
      "outputs": [
        {
          "output_type": "execute_result",
          "data": {
            "text/html": [
              "<div>\n",
              "<style scoped>\n",
              "    .dataframe tbody tr th:only-of-type {\n",
              "        vertical-align: middle;\n",
              "    }\n",
              "\n",
              "    .dataframe tbody tr th {\n",
              "        vertical-align: top;\n",
              "    }\n",
              "\n",
              "    .dataframe thead th {\n",
              "        text-align: right;\n",
              "    }\n",
              "</style>\n",
              "<table border=\"1\" class=\"dataframe\">\n",
              "  <thead>\n",
              "    <tr style=\"text-align: right;\">\n",
              "      <th></th>\n",
              "      <th>Close</th>\n",
              "      <th>Open</th>\n",
              "      <th>High</th>\n",
              "      <th>Low</th>\n",
              "      <th>Volume</th>\n",
              "      <th>polarity</th>\n",
              "      <th>subjectivity</th>\n",
              "    </tr>\n",
              "  </thead>\n",
              "  <tbody>\n",
              "    <tr>\n",
              "      <th>2001-01-02</th>\n",
              "      <td>NaN</td>\n",
              "      <td>NaN</td>\n",
              "      <td>NaN</td>\n",
              "      <td>NaN</td>\n",
              "      <td>NaN</td>\n",
              "      <td>NaN</td>\n",
              "      <td>NaN</td>\n",
              "    </tr>\n",
              "    <tr>\n",
              "      <th>2001-01-03</th>\n",
              "      <td>NaN</td>\n",
              "      <td>NaN</td>\n",
              "      <td>NaN</td>\n",
              "      <td>NaN</td>\n",
              "      <td>NaN</td>\n",
              "      <td>NaN</td>\n",
              "      <td>NaN</td>\n",
              "    </tr>\n",
              "    <tr>\n",
              "      <th>2001-01-04</th>\n",
              "      <td>NaN</td>\n",
              "      <td>NaN</td>\n",
              "      <td>NaN</td>\n",
              "      <td>NaN</td>\n",
              "      <td>NaN</td>\n",
              "      <td>NaN</td>\n",
              "      <td>NaN</td>\n",
              "    </tr>\n",
              "    <tr>\n",
              "      <th>2001-01-05</th>\n",
              "      <td>NaN</td>\n",
              "      <td>NaN</td>\n",
              "      <td>NaN</td>\n",
              "      <td>NaN</td>\n",
              "      <td>NaN</td>\n",
              "      <td>NaN</td>\n",
              "      <td>NaN</td>\n",
              "    </tr>\n",
              "    <tr>\n",
              "      <th>2001-01-08</th>\n",
              "      <td>NaN</td>\n",
              "      <td>NaN</td>\n",
              "      <td>NaN</td>\n",
              "      <td>NaN</td>\n",
              "      <td>NaN</td>\n",
              "      <td>NaN</td>\n",
              "      <td>NaN</td>\n",
              "    </tr>\n",
              "    <tr>\n",
              "      <th>2001-01-09</th>\n",
              "      <td>NaN</td>\n",
              "      <td>NaN</td>\n",
              "      <td>NaN</td>\n",
              "      <td>NaN</td>\n",
              "      <td>NaN</td>\n",
              "      <td>NaN</td>\n",
              "      <td>NaN</td>\n",
              "    </tr>\n",
              "    <tr>\n",
              "      <th>2001-01-10</th>\n",
              "      <td>267.414285</td>\n",
              "      <td>267.414285</td>\n",
              "      <td>267.414285</td>\n",
              "      <td>267.414285</td>\n",
              "      <td>0.285714</td>\n",
              "      <td>0.089065</td>\n",
              "      <td>0.359502</td>\n",
              "    </tr>\n",
              "    <tr>\n",
              "      <th>2001-01-23</th>\n",
              "      <td>267.085715</td>\n",
              "      <td>267.085715</td>\n",
              "      <td>267.085715</td>\n",
              "      <td>267.085715</td>\n",
              "      <td>0.285714</td>\n",
              "      <td>0.076533</td>\n",
              "      <td>0.371638</td>\n",
              "    </tr>\n",
              "    <tr>\n",
              "      <th>2001-01-24</th>\n",
              "      <td>266.557142</td>\n",
              "      <td>266.557142</td>\n",
              "      <td>266.557142</td>\n",
              "      <td>266.557142</td>\n",
              "      <td>0.142857</td>\n",
              "      <td>0.075342</td>\n",
              "      <td>0.341082</td>\n",
              "    </tr>\n",
              "    <tr>\n",
              "      <th>2001-01-25</th>\n",
              "      <td>266.157144</td>\n",
              "      <td>266.157144</td>\n",
              "      <td>266.157144</td>\n",
              "      <td>266.157144</td>\n",
              "      <td>0.000000</td>\n",
              "      <td>0.067394</td>\n",
              "      <td>0.330374</td>\n",
              "    </tr>\n",
              "    <tr>\n",
              "      <th>2001-01-26</th>\n",
              "      <td>265.414285</td>\n",
              "      <td>265.414285</td>\n",
              "      <td>265.414285</td>\n",
              "      <td>265.414285</td>\n",
              "      <td>0.000000</td>\n",
              "      <td>0.050425</td>\n",
              "      <td>0.298967</td>\n",
              "    </tr>\n",
              "    <tr>\n",
              "      <th>2001-01-29</th>\n",
              "      <td>264.671426</td>\n",
              "      <td>264.671426</td>\n",
              "      <td>264.671426</td>\n",
              "      <td>264.671426</td>\n",
              "      <td>2212.714286</td>\n",
              "      <td>0.079347</td>\n",
              "      <td>0.291979</td>\n",
              "    </tr>\n",
              "    <tr>\n",
              "      <th>2001-01-30</th>\n",
              "      <td>264.385712</td>\n",
              "      <td>264.014282</td>\n",
              "      <td>264.542855</td>\n",
              "      <td>264.014282</td>\n",
              "      <td>2463.285714</td>\n",
              "      <td>0.100464</td>\n",
              "      <td>0.274337</td>\n",
              "    </tr>\n",
              "    <tr>\n",
              "      <th>2001-01-31</th>\n",
              "      <td>264.514282</td>\n",
              "      <td>264.085711</td>\n",
              "      <td>264.728568</td>\n",
              "      <td>263.871425</td>\n",
              "      <td>2544.142857</td>\n",
              "      <td>0.108627</td>\n",
              "      <td>0.320595</td>\n",
              "    </tr>\n",
              "    <tr>\n",
              "      <th>2001-02-01</th>\n",
              "      <td>264.857139</td>\n",
              "      <td>264.114280</td>\n",
              "      <td>265.128566</td>\n",
              "      <td>263.899994</td>\n",
              "      <td>2602.714286</td>\n",
              "      <td>0.117188</td>\n",
              "      <td>0.324278</td>\n",
              "    </tr>\n",
              "    <tr>\n",
              "      <th>2001-02-02</th>\n",
              "      <td>265.257141</td>\n",
              "      <td>264.642853</td>\n",
              "      <td>265.685713</td>\n",
              "      <td>264.214281</td>\n",
              "      <td>2618.000000</td>\n",
              "      <td>0.125670</td>\n",
              "      <td>0.324625</td>\n",
              "    </tr>\n",
              "    <tr>\n",
              "      <th>2001-02-05</th>\n",
              "      <td>265.357143</td>\n",
              "      <td>264.728568</td>\n",
              "      <td>265.871425</td>\n",
              "      <td>264.299997</td>\n",
              "      <td>2645.428571</td>\n",
              "      <td>0.110053</td>\n",
              "      <td>0.311977</td>\n",
              "    </tr>\n",
              "    <tr>\n",
              "      <th>2001-02-06</th>\n",
              "      <td>265.428571</td>\n",
              "      <td>264.885712</td>\n",
              "      <td>266.028569</td>\n",
              "      <td>264.157139</td>\n",
              "      <td>2649.000000</td>\n",
              "      <td>0.088786</td>\n",
              "      <td>0.308749</td>\n",
              "    </tr>\n",
              "    <tr>\n",
              "      <th>2001-02-07</th>\n",
              "      <td>265.428571</td>\n",
              "      <td>264.885712</td>\n",
              "      <td>266.128571</td>\n",
              "      <td>264.099997</td>\n",
              "      <td>460.000000</td>\n",
              "      <td>0.075800</td>\n",
              "      <td>0.307846</td>\n",
              "    </tr>\n",
              "    <tr>\n",
              "      <th>2001-02-08</th>\n",
              "      <td>264.657144</td>\n",
              "      <td>264.971427</td>\n",
              "      <td>265.685713</td>\n",
              "      <td>263.657139</td>\n",
              "      <td>211.285714</td>\n",
              "      <td>0.086331</td>\n",
              "      <td>0.305753</td>\n",
              "    </tr>\n",
              "  </tbody>\n",
              "</table>\n",
              "</div>"
            ],
            "text/plain": [
              "                 Close        Open  ...  polarity  subjectivity\n",
              "2001-01-02         NaN         NaN  ...       NaN           NaN\n",
              "2001-01-03         NaN         NaN  ...       NaN           NaN\n",
              "2001-01-04         NaN         NaN  ...       NaN           NaN\n",
              "2001-01-05         NaN         NaN  ...       NaN           NaN\n",
              "2001-01-08         NaN         NaN  ...       NaN           NaN\n",
              "2001-01-09         NaN         NaN  ...       NaN           NaN\n",
              "2001-01-10  267.414285  267.414285  ...  0.089065      0.359502\n",
              "2001-01-23  267.085715  267.085715  ...  0.076533      0.371638\n",
              "2001-01-24  266.557142  266.557142  ...  0.075342      0.341082\n",
              "2001-01-25  266.157144  266.157144  ...  0.067394      0.330374\n",
              "2001-01-26  265.414285  265.414285  ...  0.050425      0.298967\n",
              "2001-01-29  264.671426  264.671426  ...  0.079347      0.291979\n",
              "2001-01-30  264.385712  264.014282  ...  0.100464      0.274337\n",
              "2001-01-31  264.514282  264.085711  ...  0.108627      0.320595\n",
              "2001-02-01  264.857139  264.114280  ...  0.117188      0.324278\n",
              "2001-02-02  265.257141  264.642853  ...  0.125670      0.324625\n",
              "2001-02-05  265.357143  264.728568  ...  0.110053      0.311977\n",
              "2001-02-06  265.428571  264.885712  ...  0.088786      0.308749\n",
              "2001-02-07  265.428571  264.885712  ...  0.075800      0.307846\n",
              "2001-02-08  264.657144  264.971427  ...  0.086331      0.305753\n",
              "\n",
              "[20 rows x 7 columns]"
            ]
          },
          "metadata": {
            "tags": []
          },
          "execution_count": 17
        }
      ]
    },
    {
      "cell_type": "code",
      "metadata": {
        "id": "hVdKpoK1W6n9",
        "colab": {
          "base_uri": "https://localhost:8080/",
          "height": 566
        },
        "outputId": "97b38187-558f-4eaf-85a3-d03fe617fb2c"
      },
      "source": [
        "# setting figure size\n",
        "plt.figure(figsize=(15,10))\n",
        "\n",
        "# plotting the close price and a 30-day rolling mean of close price\n",
        "stock_data['Close'].plot()\n",
        "stock_data.rolling(window=30).mean()['Close'].plot()"
      ],
      "execution_count": 18,
      "outputs": [
        {
          "output_type": "execute_result",
          "data": {
            "text/plain": [
              "<matplotlib.axes._subplots.AxesSubplot at 0x7f63b228ec90>"
            ]
          },
          "metadata": {
            "tags": []
          },
          "execution_count": 18
        },
        {
          "output_type": "display_data",
          "data": {
            "image/png": "[encoded data removed]",
            "text/plain": [
              "<Figure size 1080x720 with 1 Axes>"
            ]
          },
          "metadata": {
            "tags": [],
            "needs_background": "light"
          }
        }
      ]
    },
    {
      "cell_type": "markdown",
      "metadata": {
        "id": "osJDPprPX9B_"
      },
      "source": [
        "Predicting Opening Prices"
      ]
    },
    {
      "cell_type": "code",
      "metadata": {
        "id": "AwEHgiT7W6m4"
      },
      "source": [
        "#predicting opening prices\n",
        "df= stock_data[['Open', 'High',  'Volume', 'polarity', 'subjectivity']]\n",
        "y=df['High']\n",
        "X=df.copy()\n",
        "X.drop('High',axis=1,inplace=True)"
      ],
      "execution_count": 19,
      "outputs": []
    },
    {
      "cell_type": "code",
      "metadata": {
        "id": "k4_cRVYKXBx2",
        "colab": {
          "base_uri": "https://localhost:8080/",
          "height": 402
        },
        "outputId": "ac708ace-a426-4f46-e1e9-02d91c875ab9"
      },
      "source": [
        "#importing test train split\n",
        "from sklearn.model_selection import train_test_split\n",
        "\n",
        "#Train-Test split\n",
        "X_train,X_test,y_train,y_test= train_test_split(X,y,test_size=0.15,shuffle=False)\n",
        "X_test"
      ],
      "execution_count": 20,
      "outputs": [
        {
          "output_type": "execute_result",
          "data": {
            "text/html": [
              "<div>\n",
              "<style scoped>\n",
              "    .dataframe tbody tr th:only-of-type {\n",
              "        vertical-align: middle;\n",
              "    }\n",
              "\n",
              "    .dataframe tbody tr th {\n",
              "        vertical-align: top;\n",
              "    }\n",
              "\n",
              "    .dataframe thead th {\n",
              "        text-align: right;\n",
              "    }\n",
              "</style>\n",
              "<table border=\"1\" class=\"dataframe\">\n",
              "  <thead>\n",
              "    <tr style=\"text-align: right;\">\n",
              "      <th></th>\n",
              "      <th>Open</th>\n",
              "      <th>Volume</th>\n",
              "      <th>polarity</th>\n",
              "      <th>subjectivity</th>\n",
              "    </tr>\n",
              "  </thead>\n",
              "  <tbody>\n",
              "    <tr>\n",
              "      <th>2018-01-05</th>\n",
              "      <td>1320.300049</td>\n",
              "      <td>1.0</td>\n",
              "      <td>0.063854</td>\n",
              "      <td>0.374854</td>\n",
              "    </tr>\n",
              "    <tr>\n",
              "      <th>2018-01-08</th>\n",
              "      <td>1319.900024</td>\n",
              "      <td>41.0</td>\n",
              "      <td>0.087401</td>\n",
              "      <td>0.388622</td>\n",
              "    </tr>\n",
              "    <tr>\n",
              "      <th>2018-01-09</th>\n",
              "      <td>1309.599976</td>\n",
              "      <td>16.0</td>\n",
              "      <td>0.067696</td>\n",
              "      <td>0.390484</td>\n",
              "    </tr>\n",
              "    <tr>\n",
              "      <th>2018-01-10</th>\n",
              "      <td>1320.300049</td>\n",
              "      <td>70.0</td>\n",
              "      <td>0.052244</td>\n",
              "      <td>0.387770</td>\n",
              "    </tr>\n",
              "    <tr>\n",
              "      <th>2018-01-11</th>\n",
              "      <td>1317.099976</td>\n",
              "      <td>9.0</td>\n",
              "      <td>0.046267</td>\n",
              "      <td>0.341841</td>\n",
              "    </tr>\n",
              "    <tr>\n",
              "      <th>...</th>\n",
              "      <td>...</td>\n",
              "      <td>...</td>\n",
              "      <td>...</td>\n",
              "      <td>...</td>\n",
              "    </tr>\n",
              "    <tr>\n",
              "      <th>2020-12-23</th>\n",
              "      <td>1867.000000</td>\n",
              "      <td>82.0</td>\n",
              "      <td>0.081997</td>\n",
              "      <td>0.392756</td>\n",
              "    </tr>\n",
              "    <tr>\n",
              "      <th>2020-12-28</th>\n",
              "      <td>1895.500000</td>\n",
              "      <td>75.0</td>\n",
              "      <td>0.081137</td>\n",
              "      <td>0.417158</td>\n",
              "    </tr>\n",
              "    <tr>\n",
              "      <th>2020-12-29</th>\n",
              "      <td>1881.300049</td>\n",
              "      <td>343.0</td>\n",
              "      <td>0.066816</td>\n",
              "      <td>0.412775</td>\n",
              "    </tr>\n",
              "    <tr>\n",
              "      <th>2020-12-30</th>\n",
              "      <td>1879.900024</td>\n",
              "      <td>444.0</td>\n",
              "      <td>0.058847</td>\n",
              "      <td>0.433598</td>\n",
              "    </tr>\n",
              "    <tr>\n",
              "      <th>2020-12-31</th>\n",
              "      <td>1897.000000</td>\n",
              "      <td>127.0</td>\n",
              "      <td>0.100443</td>\n",
              "      <td>0.392380</td>\n",
              "    </tr>\n",
              "  </tbody>\n",
              "</table>\n",
              "<p>744 rows × 4 columns</p>\n",
              "</div>"
            ],
            "text/plain": [
              "                   Open  Volume  polarity  subjectivity\n",
              "2018-01-05  1320.300049     1.0  0.063854      0.374854\n",
              "2018-01-08  1319.900024    41.0  0.087401      0.388622\n",
              "2018-01-09  1309.599976    16.0  0.067696      0.390484\n",
              "2018-01-10  1320.300049    70.0  0.052244      0.387770\n",
              "2018-01-11  1317.099976     9.0  0.046267      0.341841\n",
              "...                 ...     ...       ...           ...\n",
              "2020-12-23  1867.000000    82.0  0.081997      0.392756\n",
              "2020-12-28  1895.500000    75.0  0.081137      0.417158\n",
              "2020-12-29  1881.300049   343.0  0.066816      0.412775\n",
              "2020-12-30  1879.900024   444.0  0.058847      0.433598\n",
              "2020-12-31  1897.000000   127.0  0.100443      0.392380\n",
              "\n",
              "[744 rows x 4 columns]"
            ]
          },
          "metadata": {
            "tags": []
          },
          "execution_count": 20
        }
      ]
    },
    {
      "cell_type": "code",
      "metadata": {
        "id": "UsLHVuEZXBvG",
        "colab": {
          "base_uri": "https://localhost:8080/"
        },
        "outputId": "20c324bf-c83d-4e11-a870-166052b25ce3"
      },
      "source": [
        "# LINEAR REGRESSION\n",
        "from sklearn.linear_model import LinearRegression\n",
        "LinearRegression_model= LinearRegression()\n",
        "LinearRegression_model.fit(X_train,y_train)\n",
        "acc_LinearRegression =LinearRegression_model.score(X_test,y_test)\n",
        "acc_LinearRegression"
      ],
      "execution_count": 21,
      "outputs": [
        {
          "output_type": "execute_result",
          "data": {
            "text/plain": [
              "0.9983553437652833"
            ]
          },
          "metadata": {
            "tags": []
          },
          "execution_count": 21
        }
      ]
    },
    {
      "cell_type": "code",
      "metadata": {
        "id": "C3eTeF01XISa",
        "colab": {
          "base_uri": "https://localhost:8080/"
        },
        "outputId": "03dc1cb4-c0c3-46ea-e480-bbf1ff62d6de"
      },
      "source": [
        "# DECISION TREE REGRESSION\n",
        "from sklearn.tree import DecisionTreeRegressor\n",
        "DecisionTree_model= DecisionTreeRegressor()\n",
        "DecisionTree_model.fit(X_train,y_train)\n",
        "acc_DecisionTree =DecisionTree_model.score(X_test,y_test)\n",
        "acc_DecisionTree"
      ],
      "execution_count": 22,
      "outputs": [
        {
          "output_type": "execute_result",
          "data": {
            "text/plain": [
              "0.9892903013067027"
            ]
          },
          "metadata": {
            "tags": []
          },
          "execution_count": 22
        }
      ]
    },
    {
      "cell_type": "code",
      "metadata": {
        "id": "YvqOUl8fXIKZ",
        "colab": {
          "base_uri": "https://localhost:8080/"
        },
        "outputId": "dd9771a3-7b27-4fdd-94c1-c8bc215ff635"
      },
      "source": [
        "# KNN NEIGHBORS\n",
        "from sklearn import neighbors\n",
        "knn_model=neighbors.KNeighborsRegressor(n_neighbors=4)\n",
        "knn_model.fit(X_train,y_train)\n",
        "acc_knn =knn_model.score(X_test,y_test)\n",
        "acc_knn"
      ],
      "execution_count": 23,
      "outputs": [
        {
          "output_type": "execute_result",
          "data": {
            "text/plain": [
              "0.7813515417593735"
            ]
          },
          "metadata": {
            "tags": []
          },
          "execution_count": 23
        }
      ]
    },
    {
      "cell_type": "code",
      "metadata": {
        "id": "9LUY9eFHXIH9",
        "colab": {
          "base_uri": "https://localhost:8080/"
        },
        "outputId": "49a99ea1-e59d-4c85-97e6-72a48b5ba84f"
      },
      "source": [
        "from xgboost import XGBRegressor \n",
        "from sklearn.metrics import mean_squared_error\n",
        "xgb = XGBRegressor(n_estimators = 20000, n_jobs = -1, learning_rate = 0.15, random_state = 0, max_depth = 8, reg_lambda = 0.5)\n",
        "xgb.fit(X_train, y_train, early_stopping_rounds = 200, eval_set = [(X_test,y_test)], eval_metric = 'rmse', verbose = True)\n",
        "cv_pred = xgb.predict(X_test)\n",
        "print(np.sqrt(mean_squared_error(y_test, cv_pred)))\n",
        "print(xgb.score(X_test,y_test))"
      ],
      "execution_count": 24,
      "outputs": [
        {
          "output_type": "stream",
          "text": [
            "[05:59:10] WARNING: /workspace/src/objective/regression_obj.cu:152: reg:linear is now deprecated in favor of reg:squarederror.\n",
            "[0]\tvalidation_0-rmse:1285.14\n",
            "Will train until validation_0-rmse hasn't improved in 200 rounds.\n",
            "[1]\tvalidation_0-rmse:1095.56\n",
            "[2]\tvalidation_0-rmse:935.909\n",
            "[3]\tvalidation_0-rmse:800.989\n",
            "[4]\tvalidation_0-rmse:685.049\n",
            "[5]\tvalidation_0-rmse:586.12\n",
            "[6]\tvalidation_0-rmse:502.548\n",
            "[7]\tvalidation_0-rmse:431.908\n",
            "[8]\tvalidation_0-rmse:371.166\n",
            "[9]\tvalidation_0-rmse:320.125\n",
            "[10]\tvalidation_0-rmse:274.697\n",
            "[11]\tvalidation_0-rmse:236.568\n",
            "[12]\tvalidation_0-rmse:205.05\n",
            "[13]\tvalidation_0-rmse:176.93\n",
            "[14]\tvalidation_0-rmse:152.909\n",
            "[15]\tvalidation_0-rmse:132.497\n",
            "[16]\tvalidation_0-rmse:115.826\n",
            "[17]\tvalidation_0-rmse:101.325\n",
            "[18]\tvalidation_0-rmse:88.8854\n",
            "[19]\tvalidation_0-rmse:78.4595\n",
            "[20]\tvalidation_0-rmse:69.1249\n",
            "[21]\tvalidation_0-rmse:61.6486\n",
            "[22]\tvalidation_0-rmse:54.9784\n",
            "[23]\tvalidation_0-rmse:49.3504\n",
            "[24]\tvalidation_0-rmse:44.6618\n",
            "[25]\tvalidation_0-rmse:40.7561\n",
            "[26]\tvalidation_0-rmse:37.2753\n",
            "[27]\tvalidation_0-rmse:34.9684\n",
            "[28]\tvalidation_0-rmse:32.8576\n",
            "[29]\tvalidation_0-rmse:31.3454\n",
            "[30]\tvalidation_0-rmse:30.0297\n",
            "[31]\tvalidation_0-rmse:29.0378\n",
            "[32]\tvalidation_0-rmse:27.79\n",
            "[33]\tvalidation_0-rmse:27.0558\n",
            "[34]\tvalidation_0-rmse:26.4548\n",
            "[35]\tvalidation_0-rmse:26.0981\n",
            "[36]\tvalidation_0-rmse:25.8299\n",
            "[37]\tvalidation_0-rmse:25.5082\n",
            "[38]\tvalidation_0-rmse:25.3001\n",
            "[39]\tvalidation_0-rmse:25.0821\n",
            "[40]\tvalidation_0-rmse:24.8443\n",
            "[41]\tvalidation_0-rmse:24.7137\n",
            "[42]\tvalidation_0-rmse:24.6469\n",
            "[43]\tvalidation_0-rmse:24.5215\n",
            "[44]\tvalidation_0-rmse:24.4389\n",
            "[45]\tvalidation_0-rmse:24.3829\n",
            "[46]\tvalidation_0-rmse:24.3004\n",
            "[47]\tvalidation_0-rmse:24.2559\n",
            "[48]\tvalidation_0-rmse:24.2367\n",
            "[49]\tvalidation_0-rmse:24.2159\n",
            "[50]\tvalidation_0-rmse:24.2023\n",
            "[51]\tvalidation_0-rmse:24.1821\n",
            "[52]\tvalidation_0-rmse:24.1697\n",
            "[53]\tvalidation_0-rmse:24.1759\n",
            "[54]\tvalidation_0-rmse:24.1301\n",
            "[55]\tvalidation_0-rmse:24.1282\n",
            "[56]\tvalidation_0-rmse:24.1173\n",
            "[57]\tvalidation_0-rmse:24.087\n",
            "[58]\tvalidation_0-rmse:24.0833\n",
            "[59]\tvalidation_0-rmse:24.0619\n",
            "[60]\tvalidation_0-rmse:24.0591\n",
            "[61]\tvalidation_0-rmse:23.9596\n",
            "[62]\tvalidation_0-rmse:23.9615\n",
            "[63]\tvalidation_0-rmse:23.9499\n",
            "[64]\tvalidation_0-rmse:23.9406\n",
            "[65]\tvalidation_0-rmse:23.8206\n",
            "[66]\tvalidation_0-rmse:23.7148\n",
            "[67]\tvalidation_0-rmse:23.7152\n",
            "[68]\tvalidation_0-rmse:23.7156\n",
            "[69]\tvalidation_0-rmse:23.6221\n",
            "[70]\tvalidation_0-rmse:23.6164\n",
            "[71]\tvalidation_0-rmse:23.6187\n",
            "[72]\tvalidation_0-rmse:23.5988\n",
            "[73]\tvalidation_0-rmse:23.5977\n",
            "[74]\tvalidation_0-rmse:23.569\n",
            "[75]\tvalidation_0-rmse:23.5681\n",
            "[76]\tvalidation_0-rmse:23.5753\n",
            "[77]\tvalidation_0-rmse:23.4938\n",
            "[78]\tvalidation_0-rmse:23.4958\n",
            "[79]\tvalidation_0-rmse:23.5019\n",
            "[80]\tvalidation_0-rmse:23.5012\n",
            "[81]\tvalidation_0-rmse:23.5012\n",
            "[82]\tvalidation_0-rmse:23.4247\n",
            "[83]\tvalidation_0-rmse:23.4247\n",
            "[84]\tvalidation_0-rmse:23.4312\n",
            "[85]\tvalidation_0-rmse:23.432\n",
            "[86]\tvalidation_0-rmse:23.4455\n",
            "[87]\tvalidation_0-rmse:23.4546\n",
            "[88]\tvalidation_0-rmse:23.4541\n",
            "[89]\tvalidation_0-rmse:23.4557\n",
            "[90]\tvalidation_0-rmse:23.4517\n",
            "[91]\tvalidation_0-rmse:23.4603\n",
            "[92]\tvalidation_0-rmse:23.4593\n",
            "[93]\tvalidation_0-rmse:23.459\n",
            "[94]\tvalidation_0-rmse:23.4627\n",
            "[95]\tvalidation_0-rmse:23.462\n",
            "[96]\tvalidation_0-rmse:23.4655\n",
            "[97]\tvalidation_0-rmse:23.4656\n",
            "[98]\tvalidation_0-rmse:23.4732\n",
            "[99]\tvalidation_0-rmse:23.4732\n",
            "[100]\tvalidation_0-rmse:23.474\n",
            "[101]\tvalidation_0-rmse:23.4769\n",
            "[102]\tvalidation_0-rmse:23.4724\n",
            "[103]\tvalidation_0-rmse:23.4729\n",
            "[104]\tvalidation_0-rmse:23.467\n",
            "[105]\tvalidation_0-rmse:23.4673\n",
            "[106]\tvalidation_0-rmse:23.4698\n",
            "[107]\tvalidation_0-rmse:23.4676\n",
            "[108]\tvalidation_0-rmse:23.4653\n",
            "[109]\tvalidation_0-rmse:23.4767\n",
            "[110]\tvalidation_0-rmse:23.4777\n",
            "[111]\tvalidation_0-rmse:23.4775\n",
            "[112]\tvalidation_0-rmse:23.4776\n",
            "[113]\tvalidation_0-rmse:23.4821\n",
            "[114]\tvalidation_0-rmse:23.4702\n",
            "[115]\tvalidation_0-rmse:23.4708\n",
            "[116]\tvalidation_0-rmse:23.4678\n",
            "[117]\tvalidation_0-rmse:23.4716\n",
            "[118]\tvalidation_0-rmse:23.4747\n",
            "[119]\tvalidation_0-rmse:23.4643\n",
            "[120]\tvalidation_0-rmse:23.4637\n",
            "[121]\tvalidation_0-rmse:23.4754\n",
            "[122]\tvalidation_0-rmse:23.4773\n",
            "[123]\tvalidation_0-rmse:23.4829\n",
            "[124]\tvalidation_0-rmse:23.4696\n",
            "[125]\tvalidation_0-rmse:23.4695\n",
            "[126]\tvalidation_0-rmse:23.4694\n",
            "[127]\tvalidation_0-rmse:23.4697\n",
            "[128]\tvalidation_0-rmse:23.4781\n",
            "[129]\tvalidation_0-rmse:23.4801\n",
            "[130]\tvalidation_0-rmse:23.4797\n",
            "[131]\tvalidation_0-rmse:23.4833\n",
            "[132]\tvalidation_0-rmse:23.4824\n",
            "[133]\tvalidation_0-rmse:23.487\n",
            "[134]\tvalidation_0-rmse:23.4879\n",
            "[135]\tvalidation_0-rmse:23.4862\n",
            "[136]\tvalidation_0-rmse:23.4867\n",
            "[137]\tvalidation_0-rmse:23.4907\n",
            "[138]\tvalidation_0-rmse:23.4905\n",
            "[139]\tvalidation_0-rmse:23.4995\n",
            "[140]\tvalidation_0-rmse:23.4988\n",
            "[141]\tvalidation_0-rmse:23.4955\n",
            "[142]\tvalidation_0-rmse:23.494\n",
            "[143]\tvalidation_0-rmse:23.4932\n",
            "[144]\tvalidation_0-rmse:23.4922\n",
            "[145]\tvalidation_0-rmse:23.4933\n",
            "[146]\tvalidation_0-rmse:23.4967\n",
            "[147]\tvalidation_0-rmse:23.4989\n",
            "[148]\tvalidation_0-rmse:23.5051\n",
            "[149]\tvalidation_0-rmse:23.5047\n",
            "[150]\tvalidation_0-rmse:23.5022\n",
            "[151]\tvalidation_0-rmse:23.5026\n",
            "[152]\tvalidation_0-rmse:23.5024\n",
            "[153]\tvalidation_0-rmse:23.5025\n",
            "[154]\tvalidation_0-rmse:23.5041\n",
            "[155]\tvalidation_0-rmse:23.5054\n",
            "[156]\tvalidation_0-rmse:23.5051\n",
            "[157]\tvalidation_0-rmse:23.4938\n",
            "[158]\tvalidation_0-rmse:23.4964\n",
            "[159]\tvalidation_0-rmse:23.4882\n",
            "[160]\tvalidation_0-rmse:23.4884\n",
            "[161]\tvalidation_0-rmse:23.4881\n",
            "[162]\tvalidation_0-rmse:23.4877\n",
            "[163]\tvalidation_0-rmse:23.4864\n",
            "[164]\tvalidation_0-rmse:23.4857\n",
            "[165]\tvalidation_0-rmse:23.4864\n",
            "[166]\tvalidation_0-rmse:23.4866\n",
            "[167]\tvalidation_0-rmse:23.4866\n",
            "[168]\tvalidation_0-rmse:23.4876\n",
            "[169]\tvalidation_0-rmse:23.4882\n",
            "[170]\tvalidation_0-rmse:23.4922\n",
            "[171]\tvalidation_0-rmse:23.4906\n",
            "[172]\tvalidation_0-rmse:23.4878\n",
            "[173]\tvalidation_0-rmse:23.4876\n",
            "[174]\tvalidation_0-rmse:23.4867\n",
            "[175]\tvalidation_0-rmse:23.4872\n",
            "[176]\tvalidation_0-rmse:23.4861\n",
            "[177]\tvalidation_0-rmse:23.4828\n",
            "[178]\tvalidation_0-rmse:23.4827\n",
            "[179]\tvalidation_0-rmse:23.4819\n",
            "[180]\tvalidation_0-rmse:23.481\n",
            "[181]\tvalidation_0-rmse:23.4819\n",
            "[182]\tvalidation_0-rmse:23.482\n",
            "[183]\tvalidation_0-rmse:23.4834\n",
            "[184]\tvalidation_0-rmse:23.4869\n",
            "[185]\tvalidation_0-rmse:23.4873\n",
            "[186]\tvalidation_0-rmse:23.4879\n",
            "[187]\tvalidation_0-rmse:23.4879\n",
            "[188]\tvalidation_0-rmse:23.4879\n",
            "[189]\tvalidation_0-rmse:23.4837\n",
            "[190]\tvalidation_0-rmse:23.4845\n",
            "[191]\tvalidation_0-rmse:23.489\n",
            "[192]\tvalidation_0-rmse:23.4892\n",
            "[193]\tvalidation_0-rmse:23.4888\n",
            "[194]\tvalidation_0-rmse:23.4867\n",
            "[195]\tvalidation_0-rmse:23.4867\n",
            "[196]\tvalidation_0-rmse:23.4814\n",
            "[197]\tvalidation_0-rmse:23.4816\n",
            "[198]\tvalidation_0-rmse:23.4885\n",
            "[199]\tvalidation_0-rmse:23.4868\n",
            "[200]\tvalidation_0-rmse:23.4879\n",
            "[201]\tvalidation_0-rmse:23.486\n",
            "[202]\tvalidation_0-rmse:23.4866\n",
            "[203]\tvalidation_0-rmse:23.4866\n",
            "[204]\tvalidation_0-rmse:23.4862\n",
            "[205]\tvalidation_0-rmse:23.4841\n",
            "[206]\tvalidation_0-rmse:23.4831\n",
            "[207]\tvalidation_0-rmse:23.485\n",
            "[208]\tvalidation_0-rmse:23.4853\n",
            "[209]\tvalidation_0-rmse:23.4857\n",
            "[210]\tvalidation_0-rmse:23.4869\n",
            "[211]\tvalidation_0-rmse:23.4864\n",
            "[212]\tvalidation_0-rmse:23.4866\n",
            "[213]\tvalidation_0-rmse:23.4885\n",
            "[214]\tvalidation_0-rmse:23.4878\n",
            "[215]\tvalidation_0-rmse:23.4889\n",
            "[216]\tvalidation_0-rmse:23.4849\n",
            "[217]\tvalidation_0-rmse:23.4845\n",
            "[218]\tvalidation_0-rmse:23.4843\n",
            "[219]\tvalidation_0-rmse:23.4788\n",
            "[220]\tvalidation_0-rmse:23.4796\n",
            "[221]\tvalidation_0-rmse:23.4834\n",
            "[222]\tvalidation_0-rmse:23.4805\n",
            "[223]\tvalidation_0-rmse:23.4806\n",
            "[224]\tvalidation_0-rmse:23.4792\n",
            "[225]\tvalidation_0-rmse:23.4796\n",
            "[226]\tvalidation_0-rmse:23.4797\n",
            "[227]\tvalidation_0-rmse:23.4722\n",
            "[228]\tvalidation_0-rmse:23.4724\n",
            "[229]\tvalidation_0-rmse:23.4729\n",
            "[230]\tvalidation_0-rmse:23.4747\n",
            "[231]\tvalidation_0-rmse:23.4749\n",
            "[232]\tvalidation_0-rmse:23.475\n",
            "[233]\tvalidation_0-rmse:23.4734\n",
            "[234]\tvalidation_0-rmse:23.4722\n",
            "[235]\tvalidation_0-rmse:23.472\n",
            "[236]\tvalidation_0-rmse:23.4723\n",
            "[237]\tvalidation_0-rmse:23.4709\n",
            "[238]\tvalidation_0-rmse:23.4737\n",
            "[239]\tvalidation_0-rmse:23.4736\n",
            "[240]\tvalidation_0-rmse:23.4735\n",
            "[241]\tvalidation_0-rmse:23.4723\n",
            "[242]\tvalidation_0-rmse:23.4722\n",
            "[243]\tvalidation_0-rmse:23.4704\n",
            "[244]\tvalidation_0-rmse:23.4706\n",
            "[245]\tvalidation_0-rmse:23.4707\n",
            "[246]\tvalidation_0-rmse:23.4706\n",
            "[247]\tvalidation_0-rmse:23.472\n",
            "[248]\tvalidation_0-rmse:23.4715\n",
            "[249]\tvalidation_0-rmse:23.4695\n",
            "[250]\tvalidation_0-rmse:23.4703\n",
            "[251]\tvalidation_0-rmse:23.4708\n",
            "[252]\tvalidation_0-rmse:23.4705\n",
            "[253]\tvalidation_0-rmse:23.4704\n",
            "[254]\tvalidation_0-rmse:23.4712\n",
            "[255]\tvalidation_0-rmse:23.4712\n",
            "[256]\tvalidation_0-rmse:23.4732\n",
            "[257]\tvalidation_0-rmse:23.4685\n",
            "[258]\tvalidation_0-rmse:23.4674\n",
            "[259]\tvalidation_0-rmse:23.4661\n",
            "[260]\tvalidation_0-rmse:23.4666\n",
            "[261]\tvalidation_0-rmse:23.4695\n",
            "[262]\tvalidation_0-rmse:23.4699\n",
            "[263]\tvalidation_0-rmse:23.4699\n",
            "[264]\tvalidation_0-rmse:23.4701\n",
            "[265]\tvalidation_0-rmse:23.47\n",
            "[266]\tvalidation_0-rmse:23.47\n",
            "[267]\tvalidation_0-rmse:23.4705\n",
            "[268]\tvalidation_0-rmse:23.4696\n",
            "[269]\tvalidation_0-rmse:23.47\n",
            "[270]\tvalidation_0-rmse:23.4683\n",
            "[271]\tvalidation_0-rmse:23.4682\n",
            "[272]\tvalidation_0-rmse:23.4687\n",
            "[273]\tvalidation_0-rmse:23.469\n",
            "[274]\tvalidation_0-rmse:23.4693\n",
            "[275]\tvalidation_0-rmse:23.4692\n",
            "[276]\tvalidation_0-rmse:23.4712\n",
            "[277]\tvalidation_0-rmse:23.4711\n",
            "[278]\tvalidation_0-rmse:23.4706\n",
            "[279]\tvalidation_0-rmse:23.4708\n",
            "[280]\tvalidation_0-rmse:23.467\n",
            "[281]\tvalidation_0-rmse:23.467\n",
            "[282]\tvalidation_0-rmse:23.4723\n",
            "[283]\tvalidation_0-rmse:23.473\n",
            "Stopping. Best iteration:\n",
            "[83]\tvalidation_0-rmse:23.4247\n",
            "\n",
            "23.42465690922762\n",
            "0.9906018966409996\n"
          ],
          "name": "stdout"
        }
      ]
    },
    {
      "cell_type": "code",
      "metadata": {
        "id": "9GUWyzMJXIFK",
        "colab": {
          "base_uri": "https://localhost:8080/"
        },
        "outputId": "6d4caea7-8279-44c1-8813-e7554d0cc145"
      },
      "source": [
        "y_predict=LinearRegression_model.predict(X_test)\n",
        "from sklearn.metrics import r2_score,mean_squared_error,mean_absolute_error\n",
        "from math import sqrt\n",
        "\n",
        "k=X_test.shape[1]\n",
        "n=len(X_test)\n",
        "RMSE= float(format(np.sqrt(mean_squared_error(y_test,y_predict)),'.3f'))\n",
        "MSE= mean_squared_error(y_test,y_predict)\n",
        "MAE= mean_absolute_error(y_test,y_predict)\n",
        "r2=r2_score(y_test,y_predict)\n",
        "adj_r2= 1-(1-r2)*(n-1)/(n-k-1)\n",
        "\n",
        "print(\"RMSE= \",RMSE)\n",
        "print(\"MSE= \",MSE)\n",
        "print(\"MAE= \",MAE)\n",
        "print(\"R2= \",r2)\n",
        "print(\"Adjusted R2= \",adj_r2)\n"
      ],
      "execution_count": 25,
      "outputs": [
        {
          "output_type": "stream",
          "text": [
            "RMSE=  9.799\n",
            "MSE=  96.02435442846273\n",
            "MAE=  6.918894974201624\n",
            "R2=  0.9983553437652833\n",
            "Adjusted R2=  0.9983464417017666\n"
          ],
          "name": "stdout"
        }
      ]
    },
    {
      "cell_type": "code",
      "metadata": {
        "id": "vTUh36V8XSuM",
        "colab": {
          "base_uri": "https://localhost:8080/",
          "height": 402
        },
        "outputId": "fb7e0a7e-92a3-494d-cfcd-f8318d34b6c2"
      },
      "source": [
        "b=y_test.to_frame()\n",
        "a = pd.DataFrame(y_predict,columns=[\"Predicted value\"],index=b.index)\n",
        "result = pd.concat([b, a], axis=1)\n",
        "result"
      ],
      "execution_count": 26,
      "outputs": [
        {
          "output_type": "execute_result",
          "data": {
            "text/html": [
              "<div>\n",
              "<style scoped>\n",
              "    .dataframe tbody tr th:only-of-type {\n",
              "        vertical-align: middle;\n",
              "    }\n",
              "\n",
              "    .dataframe tbody tr th {\n",
              "        vertical-align: top;\n",
              "    }\n",
              "\n",
              "    .dataframe thead th {\n",
              "        text-align: right;\n",
              "    }\n",
              "</style>\n",
              "<table border=\"1\" class=\"dataframe\">\n",
              "  <thead>\n",
              "    <tr style=\"text-align: right;\">\n",
              "      <th></th>\n",
              "      <th>High</th>\n",
              "      <th>Predicted value</th>\n",
              "    </tr>\n",
              "  </thead>\n",
              "  <tbody>\n",
              "    <tr>\n",
              "      <th>2018-01-05</th>\n",
              "      <td>1320.300049</td>\n",
              "      <td>1327.595131</td>\n",
              "    </tr>\n",
              "    <tr>\n",
              "      <th>2018-01-08</th>\n",
              "      <td>1319.900024</td>\n",
              "      <td>1327.191786</td>\n",
              "    </tr>\n",
              "    <tr>\n",
              "      <th>2018-01-09</th>\n",
              "      <td>1311.699951</td>\n",
              "      <td>1316.851549</td>\n",
              "    </tr>\n",
              "    <tr>\n",
              "      <th>2018-01-10</th>\n",
              "      <td>1320.699951</td>\n",
              "      <td>1327.627438</td>\n",
              "    </tr>\n",
              "    <tr>\n",
              "      <th>2018-01-11</th>\n",
              "      <td>1320.599976</td>\n",
              "      <td>1324.335999</td>\n",
              "    </tr>\n",
              "    <tr>\n",
              "      <th>...</th>\n",
              "      <td>...</td>\n",
              "      <td>...</td>\n",
              "    </tr>\n",
              "    <tr>\n",
              "      <th>2020-12-23</th>\n",
              "      <td>1878.800049</td>\n",
              "      <td>1877.687178</td>\n",
              "    </tr>\n",
              "    <tr>\n",
              "      <th>2020-12-28</th>\n",
              "      <td>1895.800049</td>\n",
              "      <td>1906.406398</td>\n",
              "    </tr>\n",
              "    <tr>\n",
              "      <th>2020-12-29</th>\n",
              "      <td>1881.300049</td>\n",
              "      <td>1892.119507</td>\n",
              "    </tr>\n",
              "    <tr>\n",
              "      <th>2020-12-30</th>\n",
              "      <td>1895.800049</td>\n",
              "      <td>1890.752355</td>\n",
              "    </tr>\n",
              "    <tr>\n",
              "      <th>2020-12-31</th>\n",
              "      <td>1901.300049</td>\n",
              "      <td>1907.852582</td>\n",
              "    </tr>\n",
              "  </tbody>\n",
              "</table>\n",
              "<p>744 rows × 2 columns</p>\n",
              "</div>"
            ],
            "text/plain": [
              "                   High  Predicted value\n",
              "2018-01-05  1320.300049      1327.595131\n",
              "2018-01-08  1319.900024      1327.191786\n",
              "2018-01-09  1311.699951      1316.851549\n",
              "2018-01-10  1320.699951      1327.627438\n",
              "2018-01-11  1320.599976      1324.335999\n",
              "...                 ...              ...\n",
              "2020-12-23  1878.800049      1877.687178\n",
              "2020-12-28  1895.800049      1906.406398\n",
              "2020-12-29  1881.300049      1892.119507\n",
              "2020-12-30  1895.800049      1890.752355\n",
              "2020-12-31  1901.300049      1907.852582\n",
              "\n",
              "[744 rows x 2 columns]"
            ]
          },
          "metadata": {
            "tags": []
          },
          "execution_count": 26
        }
      ]
    },
    {
      "cell_type": "code",
      "metadata": {
        "id": "7FY9HSJUXSpc",
        "colab": {
          "base_uri": "https://localhost:8080/",
          "height": 625
        },
        "outputId": "2eb04765-6c1b-4dfa-dc42-23693dc18227"
      },
      "source": [
        "# plotting\n",
        "plt.figure(figsize=(16,10))\n",
        "plt.plot(a, label=\"Predicted Opening Price\")\n",
        "plt.plot(b, label=\"Testing Opening Price\")\n",
        "plt.legend(loc='upper center', bbox_to_anchor=(0.5, -0.05), fancybox=True, shadow=True, ncol=2)\n",
        "plt.show()"
      ],
      "execution_count": 27,
      "outputs": [
        {
          "output_type": "display_data",
          "data": {
            "image/png": "[encoded data removed]",
            "text/plain": [
              "<Figure size 1152x720 with 1 Axes>"
            ]
          },
          "metadata": {
            "tags": [],
            "needs_background": "light"
          }
        }
      ]
    },
    {
      "cell_type": "markdown",
      "metadata": {
        "id": "lrD1pbsaX0RM"
      },
      "source": [
        "Predicting Closing Prices"
      ]
    },
    {
      "cell_type": "code",
      "metadata": {
        "id": "8PYqxrg1XSmr"
      },
      "source": [
        "df1= stock_data[['Open', 'Low',  'Volume', 'polarity', 'subjectivity']]\n",
        "y=df1['Low']\n",
        "X=df1.copy()\n",
        "X.drop('Low',axis=1,inplace=True)"
      ],
      "execution_count": 28,
      "outputs": []
    },
    {
      "cell_type": "code",
      "metadata": {
        "id": "4ALbBwvIXSi7",
        "colab": {
          "base_uri": "https://localhost:8080/"
        },
        "outputId": "7f923aad-856e-47b1-9e8d-4f2597bc8f4e"
      },
      "source": [
        "#importing test train split\n",
        "from sklearn.model_selection import train_test_split\n",
        "\n",
        "#Train-Test split\n",
        "X_train,X_test,y_train,y_test= train_test_split(X,y,test_size=0.15,shuffle=False)\n",
        "y_test"
      ],
      "execution_count": 29,
      "outputs": [
        {
          "output_type": "execute_result",
          "data": {
            "text/plain": [
              "2018-01-05    1320.300049\n",
              "2018-01-08    1314.599976\n",
              "2018-01-09    1309.599976\n",
              "2018-01-10    1315.300049\n",
              "2018-01-11    1316.300049\n",
              "                 ...     \n",
              "2020-12-23    1864.500000\n",
              "2020-12-28    1873.699951\n",
              "2020-12-29    1879.699951\n",
              "2020-12-30    1877.300049\n",
              "2020-12-31    1892.699951\n",
              "Name: Low, Length: 744, dtype: float64"
            ]
          },
          "metadata": {
            "tags": []
          },
          "execution_count": 29
        }
      ]
    },
    {
      "cell_type": "code",
      "metadata": {
        "id": "mXbxKa-oXSgL",
        "colab": {
          "base_uri": "https://localhost:8080/"
        },
        "outputId": "1f079372-a945-430e-d4d7-c6794643aeba"
      },
      "source": [
        "# LINEAR REGRESSION\n",
        "from sklearn.linear_model import LinearRegression\n",
        "LinearRegression_model= LinearRegression()\n",
        "LinearRegression_model.fit(X_train,y_train)\n",
        "acc_LinearRegression =LinearRegression_model.score(X_test,y_test)\n",
        "acc_LinearRegression"
      ],
      "execution_count": 30,
      "outputs": [
        {
          "output_type": "execute_result",
          "data": {
            "text/plain": [
              "0.9975152194359665"
            ]
          },
          "metadata": {
            "tags": []
          },
          "execution_count": 30
        }
      ]
    },
    {
      "cell_type": "code",
      "metadata": {
        "id": "evZdH9VlXdC2",
        "colab": {
          "base_uri": "https://localhost:8080/"
        },
        "outputId": "fb55386b-73bf-4271-863f-cb94848b5162"
      },
      "source": [
        "# DECISION TREE REGRESSION\n",
        "from sklearn.tree import DecisionTreeRegressor\n",
        "DecisionTree_model= DecisionTreeRegressor()\n",
        "DecisionTree_model.fit(X_train,y_train)\n",
        "acc_DecisionTree =DecisionTree_model.score(X_test,y_test)\n",
        "acc_DecisionTree"
      ],
      "execution_count": 31,
      "outputs": [
        {
          "output_type": "execute_result",
          "data": {
            "text/plain": [
              "0.9740869058805024"
            ]
          },
          "metadata": {
            "tags": []
          },
          "execution_count": 31
        }
      ]
    },
    {
      "cell_type": "code",
      "metadata": {
        "id": "O8X6lj24Xc80",
        "colab": {
          "base_uri": "https://localhost:8080/"
        },
        "outputId": "fa5d5830-2a6b-47e2-db7a-3728a24f73ec"
      },
      "source": [
        "# KNN NEIGHBORS\n",
        "from sklearn import neighbors\n",
        "knn_model=neighbors.KNeighborsRegressor(n_neighbors=1)\n",
        "knn_model.fit(X_train,y_train)\n",
        "acc_knn =knn_model.score(X_test,y_test)\n",
        "acc_knn"
      ],
      "execution_count": 32,
      "outputs": [
        {
          "output_type": "execute_result",
          "data": {
            "text/plain": [
              "0.761858253980733"
            ]
          },
          "metadata": {
            "tags": []
          },
          "execution_count": 32
        }
      ]
    },
    {
      "cell_type": "code",
      "metadata": {
        "id": "koJ0gH9SXc3c",
        "colab": {
          "base_uri": "https://localhost:8080/"
        },
        "outputId": "15c52ab3-6a17-4bc5-d271-727bf7aa970d"
      },
      "source": [
        "from xgboost import XGBRegressor \n",
        "from sklearn.metrics import mean_squared_error\n",
        "xgb = XGBRegressor(n_estimators = 20000, n_jobs = -1, learning_rate = 0.15, random_state = 0, max_depth = 8, reg_lambda = 0.5)\n",
        "xgb.fit(X_train, y_train, early_stopping_rounds = 200, eval_set = [(X_test,y_test)], eval_metric = 'rmse', verbose = True)\n",
        "cv_pred = xgb.predict(X_test)\n",
        "print(np.sqrt(mean_squared_error(y_test, cv_pred)))\n",
        "print(xgb.score(X_test,y_test))"
      ],
      "execution_count": 33,
      "outputs": [
        {
          "output_type": "stream",
          "text": [
            "[05:59:40] WARNING: /workspace/src/objective/regression_obj.cu:152: reg:linear is now deprecated in favor of reg:squarederror.\n",
            "[0]\tvalidation_0-rmse:1273.52\n",
            "Will train until validation_0-rmse hasn't improved in 200 rounds.\n",
            "[1]\tvalidation_0-rmse:1087.38\n",
            "[2]\tvalidation_0-rmse:930.459\n",
            "[3]\tvalidation_0-rmse:796.659\n",
            "[4]\tvalidation_0-rmse:682.323\n",
            "[5]\tvalidation_0-rmse:584.82\n",
            "[6]\tvalidation_0-rmse:501.593\n",
            "[7]\tvalidation_0-rmse:432.015\n",
            "[8]\tvalidation_0-rmse:372.019\n",
            "[9]\tvalidation_0-rmse:320.789\n",
            "[10]\tvalidation_0-rmse:278.308\n",
            "[11]\tvalidation_0-rmse:241.6\n",
            "[12]\tvalidation_0-rmse:209.126\n",
            "[13]\tvalidation_0-rmse:182.617\n",
            "[14]\tvalidation_0-rmse:159.297\n",
            "[15]\tvalidation_0-rmse:139.583\n",
            "[16]\tvalidation_0-rmse:122.9\n",
            "[17]\tvalidation_0-rmse:109.284\n",
            "[18]\tvalidation_0-rmse:97.196\n",
            "[19]\tvalidation_0-rmse:86.9768\n",
            "[20]\tvalidation_0-rmse:78.3025\n",
            "[21]\tvalidation_0-rmse:71.1492\n",
            "[22]\tvalidation_0-rmse:65.6455\n",
            "[23]\tvalidation_0-rmse:61.3168\n",
            "[24]\tvalidation_0-rmse:57.4955\n",
            "[25]\tvalidation_0-rmse:53.9874\n",
            "[26]\tvalidation_0-rmse:50.9373\n",
            "[27]\tvalidation_0-rmse:49.0736\n",
            "[28]\tvalidation_0-rmse:47.5756\n",
            "[29]\tvalidation_0-rmse:46.3219\n",
            "[30]\tvalidation_0-rmse:45.2894\n",
            "[31]\tvalidation_0-rmse:44.4936\n",
            "[32]\tvalidation_0-rmse:43.3828\n",
            "[33]\tvalidation_0-rmse:42.4318\n",
            "[34]\tvalidation_0-rmse:41.6217\n",
            "[35]\tvalidation_0-rmse:40.9249\n",
            "[36]\tvalidation_0-rmse:40.3146\n",
            "[37]\tvalidation_0-rmse:39.7915\n",
            "[38]\tvalidation_0-rmse:39.307\n",
            "[39]\tvalidation_0-rmse:38.9231\n",
            "[40]\tvalidation_0-rmse:38.7618\n",
            "[41]\tvalidation_0-rmse:38.5391\n",
            "[42]\tvalidation_0-rmse:38.3902\n",
            "[43]\tvalidation_0-rmse:38.281\n",
            "[44]\tvalidation_0-rmse:38.2054\n",
            "[45]\tvalidation_0-rmse:38.1276\n",
            "[46]\tvalidation_0-rmse:38.0744\n",
            "[47]\tvalidation_0-rmse:37.8982\n",
            "[48]\tvalidation_0-rmse:37.8856\n",
            "[49]\tvalidation_0-rmse:37.8494\n",
            "[50]\tvalidation_0-rmse:37.7826\n",
            "[51]\tvalidation_0-rmse:37.7714\n",
            "[52]\tvalidation_0-rmse:37.7623\n",
            "[53]\tvalidation_0-rmse:37.6655\n",
            "[54]\tvalidation_0-rmse:37.6401\n",
            "[55]\tvalidation_0-rmse:37.644\n",
            "[56]\tvalidation_0-rmse:37.6212\n",
            "[57]\tvalidation_0-rmse:37.6522\n",
            "[58]\tvalidation_0-rmse:37.6485\n",
            "[59]\tvalidation_0-rmse:37.6395\n",
            "[60]\tvalidation_0-rmse:37.5577\n",
            "[61]\tvalidation_0-rmse:37.4886\n",
            "[62]\tvalidation_0-rmse:37.4511\n",
            "[63]\tvalidation_0-rmse:37.4724\n",
            "[64]\tvalidation_0-rmse:37.4748\n",
            "[65]\tvalidation_0-rmse:37.4817\n",
            "[66]\tvalidation_0-rmse:37.504\n",
            "[67]\tvalidation_0-rmse:37.5039\n",
            "[68]\tvalidation_0-rmse:37.5028\n",
            "[69]\tvalidation_0-rmse:37.4795\n",
            "[70]\tvalidation_0-rmse:37.4878\n",
            "[71]\tvalidation_0-rmse:37.4827\n",
            "[72]\tvalidation_0-rmse:37.4802\n",
            "[73]\tvalidation_0-rmse:37.4936\n",
            "[74]\tvalidation_0-rmse:37.4913\n",
            "[75]\tvalidation_0-rmse:37.4815\n",
            "[76]\tvalidation_0-rmse:37.4773\n",
            "[77]\tvalidation_0-rmse:37.4702\n",
            "[78]\tvalidation_0-rmse:37.472\n",
            "[79]\tvalidation_0-rmse:37.4757\n",
            "[80]\tvalidation_0-rmse:37.4922\n",
            "[81]\tvalidation_0-rmse:37.4975\n",
            "[82]\tvalidation_0-rmse:37.4865\n",
            "[83]\tvalidation_0-rmse:37.4821\n",
            "[84]\tvalidation_0-rmse:37.4826\n",
            "[85]\tvalidation_0-rmse:37.4833\n",
            "[86]\tvalidation_0-rmse:37.4997\n",
            "[87]\tvalidation_0-rmse:37.4995\n",
            "[88]\tvalidation_0-rmse:37.5117\n",
            "[89]\tvalidation_0-rmse:37.5098\n",
            "[90]\tvalidation_0-rmse:37.5065\n",
            "[91]\tvalidation_0-rmse:37.5088\n",
            "[92]\tvalidation_0-rmse:37.5092\n",
            "[93]\tvalidation_0-rmse:37.5111\n",
            "[94]\tvalidation_0-rmse:37.5031\n",
            "[95]\tvalidation_0-rmse:37.505\n",
            "[96]\tvalidation_0-rmse:37.5076\n",
            "[97]\tvalidation_0-rmse:37.4852\n",
            "[98]\tvalidation_0-rmse:37.4987\n",
            "[99]\tvalidation_0-rmse:37.5021\n",
            "[100]\tvalidation_0-rmse:37.5028\n",
            "[101]\tvalidation_0-rmse:37.5034\n",
            "[102]\tvalidation_0-rmse:37.5113\n",
            "[103]\tvalidation_0-rmse:37.5051\n",
            "[104]\tvalidation_0-rmse:37.4842\n",
            "[105]\tvalidation_0-rmse:37.4789\n",
            "[106]\tvalidation_0-rmse:37.4783\n",
            "[107]\tvalidation_0-rmse:37.4838\n",
            "[108]\tvalidation_0-rmse:37.4859\n",
            "[109]\tvalidation_0-rmse:37.4852\n",
            "[110]\tvalidation_0-rmse:37.4844\n",
            "[111]\tvalidation_0-rmse:37.4809\n",
            "[112]\tvalidation_0-rmse:37.4822\n",
            "[113]\tvalidation_0-rmse:37.4781\n",
            "[114]\tvalidation_0-rmse:37.4813\n",
            "[115]\tvalidation_0-rmse:37.4795\n",
            "[116]\tvalidation_0-rmse:37.4793\n",
            "[117]\tvalidation_0-rmse:37.4771\n",
            "[118]\tvalidation_0-rmse:37.497\n",
            "[119]\tvalidation_0-rmse:37.4966\n",
            "[120]\tvalidation_0-rmse:37.5125\n",
            "[121]\tvalidation_0-rmse:37.5099\n",
            "[122]\tvalidation_0-rmse:37.5094\n",
            "[123]\tvalidation_0-rmse:37.5087\n",
            "[124]\tvalidation_0-rmse:37.5075\n",
            "[125]\tvalidation_0-rmse:37.5081\n",
            "[126]\tvalidation_0-rmse:37.507\n",
            "[127]\tvalidation_0-rmse:37.5091\n",
            "[128]\tvalidation_0-rmse:37.5143\n",
            "[129]\tvalidation_0-rmse:37.5148\n",
            "[130]\tvalidation_0-rmse:37.5153\n",
            "[131]\tvalidation_0-rmse:37.5157\n",
            "[132]\tvalidation_0-rmse:37.5166\n",
            "[133]\tvalidation_0-rmse:37.5132\n",
            "[134]\tvalidation_0-rmse:37.5135\n",
            "[135]\tvalidation_0-rmse:37.5142\n",
            "[136]\tvalidation_0-rmse:37.5241\n",
            "[137]\tvalidation_0-rmse:37.5137\n",
            "[138]\tvalidation_0-rmse:37.5172\n",
            "[139]\tvalidation_0-rmse:37.5276\n",
            "[140]\tvalidation_0-rmse:37.5289\n",
            "[141]\tvalidation_0-rmse:37.5282\n",
            "[142]\tvalidation_0-rmse:37.5275\n",
            "[143]\tvalidation_0-rmse:37.5272\n",
            "[144]\tvalidation_0-rmse:37.5279\n",
            "[145]\tvalidation_0-rmse:37.528\n",
            "[146]\tvalidation_0-rmse:37.5284\n",
            "[147]\tvalidation_0-rmse:37.5225\n",
            "[148]\tvalidation_0-rmse:37.5215\n",
            "[149]\tvalidation_0-rmse:37.5196\n",
            "[150]\tvalidation_0-rmse:37.5175\n",
            "[151]\tvalidation_0-rmse:37.5198\n",
            "[152]\tvalidation_0-rmse:37.5294\n",
            "[153]\tvalidation_0-rmse:37.534\n",
            "[154]\tvalidation_0-rmse:37.5337\n",
            "[155]\tvalidation_0-rmse:37.5397\n",
            "[156]\tvalidation_0-rmse:37.5404\n",
            "[157]\tvalidation_0-rmse:37.5311\n",
            "[158]\tvalidation_0-rmse:37.5289\n",
            "[159]\tvalidation_0-rmse:37.5323\n",
            "[160]\tvalidation_0-rmse:37.5307\n",
            "[161]\tvalidation_0-rmse:37.5297\n",
            "[162]\tvalidation_0-rmse:37.5294\n",
            "[163]\tvalidation_0-rmse:37.5261\n",
            "[164]\tvalidation_0-rmse:37.5263\n",
            "[165]\tvalidation_0-rmse:37.5252\n",
            "[166]\tvalidation_0-rmse:37.5202\n",
            "[167]\tvalidation_0-rmse:37.5219\n",
            "[168]\tvalidation_0-rmse:37.5203\n",
            "[169]\tvalidation_0-rmse:37.5209\n",
            "[170]\tvalidation_0-rmse:37.5195\n",
            "[171]\tvalidation_0-rmse:37.5199\n",
            "[172]\tvalidation_0-rmse:37.5207\n",
            "[173]\tvalidation_0-rmse:37.5187\n",
            "[174]\tvalidation_0-rmse:37.5184\n",
            "[175]\tvalidation_0-rmse:37.5194\n",
            "[176]\tvalidation_0-rmse:37.5185\n",
            "[177]\tvalidation_0-rmse:37.5195\n",
            "[178]\tvalidation_0-rmse:37.5155\n",
            "[179]\tvalidation_0-rmse:37.5122\n",
            "[180]\tvalidation_0-rmse:37.5126\n",
            "[181]\tvalidation_0-rmse:37.5098\n",
            "[182]\tvalidation_0-rmse:37.5096\n",
            "[183]\tvalidation_0-rmse:37.5127\n",
            "[184]\tvalidation_0-rmse:37.5109\n",
            "[185]\tvalidation_0-rmse:37.5084\n",
            "[186]\tvalidation_0-rmse:37.5074\n",
            "[187]\tvalidation_0-rmse:37.5053\n",
            "[188]\tvalidation_0-rmse:37.5093\n",
            "[189]\tvalidation_0-rmse:37.5098\n",
            "[190]\tvalidation_0-rmse:37.5133\n",
            "[191]\tvalidation_0-rmse:37.5087\n",
            "[192]\tvalidation_0-rmse:37.5079\n",
            "[193]\tvalidation_0-rmse:37.5116\n",
            "[194]\tvalidation_0-rmse:37.5119\n",
            "[195]\tvalidation_0-rmse:37.512\n",
            "[196]\tvalidation_0-rmse:37.5123\n",
            "[197]\tvalidation_0-rmse:37.5115\n",
            "[198]\tvalidation_0-rmse:37.5129\n",
            "[199]\tvalidation_0-rmse:37.5132\n",
            "[200]\tvalidation_0-rmse:37.5132\n",
            "[201]\tvalidation_0-rmse:37.5102\n",
            "[202]\tvalidation_0-rmse:37.5107\n",
            "[203]\tvalidation_0-rmse:37.507\n",
            "[204]\tvalidation_0-rmse:37.5074\n",
            "[205]\tvalidation_0-rmse:37.507\n",
            "[206]\tvalidation_0-rmse:37.5084\n",
            "[207]\tvalidation_0-rmse:37.5072\n",
            "[208]\tvalidation_0-rmse:37.5068\n",
            "[209]\tvalidation_0-rmse:37.5036\n",
            "[210]\tvalidation_0-rmse:37.503\n",
            "[211]\tvalidation_0-rmse:37.5058\n",
            "[212]\tvalidation_0-rmse:37.507\n",
            "[213]\tvalidation_0-rmse:37.5075\n",
            "[214]\tvalidation_0-rmse:37.5088\n",
            "[215]\tvalidation_0-rmse:37.5093\n",
            "[216]\tvalidation_0-rmse:37.5112\n",
            "[217]\tvalidation_0-rmse:37.5145\n",
            "[218]\tvalidation_0-rmse:37.514\n",
            "[219]\tvalidation_0-rmse:37.509\n",
            "[220]\tvalidation_0-rmse:37.5092\n",
            "[221]\tvalidation_0-rmse:37.5118\n",
            "[222]\tvalidation_0-rmse:37.5087\n",
            "[223]\tvalidation_0-rmse:37.5089\n",
            "[224]\tvalidation_0-rmse:37.5069\n",
            "[225]\tvalidation_0-rmse:37.5083\n",
            "[226]\tvalidation_0-rmse:37.5065\n",
            "[227]\tvalidation_0-rmse:37.5096\n",
            "[228]\tvalidation_0-rmse:37.5125\n",
            "[229]\tvalidation_0-rmse:37.517\n",
            "[230]\tvalidation_0-rmse:37.5182\n",
            "[231]\tvalidation_0-rmse:37.5249\n",
            "[232]\tvalidation_0-rmse:37.5251\n",
            "[233]\tvalidation_0-rmse:37.5243\n",
            "[234]\tvalidation_0-rmse:37.5248\n",
            "[235]\tvalidation_0-rmse:37.5263\n",
            "[236]\tvalidation_0-rmse:37.5268\n",
            "[237]\tvalidation_0-rmse:37.5276\n",
            "[238]\tvalidation_0-rmse:37.5294\n",
            "[239]\tvalidation_0-rmse:37.5319\n",
            "[240]\tvalidation_0-rmse:37.5332\n",
            "[241]\tvalidation_0-rmse:37.5338\n",
            "[242]\tvalidation_0-rmse:37.5351\n",
            "[243]\tvalidation_0-rmse:37.5415\n",
            "[244]\tvalidation_0-rmse:37.5466\n",
            "[245]\tvalidation_0-rmse:37.5452\n",
            "[246]\tvalidation_0-rmse:37.5444\n",
            "[247]\tvalidation_0-rmse:37.5446\n",
            "[248]\tvalidation_0-rmse:37.5435\n",
            "[249]\tvalidation_0-rmse:37.5396\n",
            "[250]\tvalidation_0-rmse:37.5399\n",
            "[251]\tvalidation_0-rmse:37.54\n",
            "[252]\tvalidation_0-rmse:37.5445\n",
            "[253]\tvalidation_0-rmse:37.5451\n",
            "[254]\tvalidation_0-rmse:37.5447\n",
            "[255]\tvalidation_0-rmse:37.5457\n",
            "[256]\tvalidation_0-rmse:37.5422\n",
            "[257]\tvalidation_0-rmse:37.5427\n",
            "[258]\tvalidation_0-rmse:37.546\n",
            "[259]\tvalidation_0-rmse:37.5428\n",
            "[260]\tvalidation_0-rmse:37.5429\n",
            "[261]\tvalidation_0-rmse:37.5417\n",
            "[262]\tvalidation_0-rmse:37.5419\n",
            "Stopping. Best iteration:\n",
            "[62]\tvalidation_0-rmse:37.4511\n",
            "\n",
            "37.45106593390356\n",
            "0.9745127843876763\n"
          ],
          "name": "stdout"
        }
      ]
    },
    {
      "cell_type": "code",
      "metadata": {
        "id": "41aY-kqKXc0-",
        "colab": {
          "base_uri": "https://localhost:8080/"
        },
        "outputId": "b40df632-9e37-4b27-c991-1f451b38c4df"
      },
      "source": [
        "y_predict=LinearRegression_model.predict(X_test)\n",
        "from sklearn.metrics import r2_score,mean_squared_error,mean_absolute_error\n",
        "from math import sqrt\n",
        "\n",
        "k=X_test.shape[1]\n",
        "n=len(X_test)\n",
        "RMSE= float(format(np.sqrt(mean_squared_error(y_test,y_predict)),'.3f'))\n",
        "MSE= mean_squared_error(y_test,y_predict)\n",
        "MAE= mean_absolute_error(y_test,y_predict)\n",
        "r2=r2_score(y_test,y_predict)\n",
        "adj_r2= 1-(1-r2)*(n-1)/(n-k-1)\n",
        "\n",
        "print(\"RMSE= \",RMSE)\n",
        "print(\"MSE= \",MSE)\n",
        "print(\"MAE= \",MAE)\n",
        "print(\"R2= \",r2)\n",
        "print(\"Adjusted R2= \",adj_r2)"
      ],
      "execution_count": 34,
      "outputs": [
        {
          "output_type": "stream",
          "text": [
            "RMSE=  11.694\n",
            "MSE=  136.73950853908954\n",
            "MAE=  8.007098606860717\n",
            "R2=  0.9975152194359664\n",
            "Adjusted R2=  0.9975017700147809\n"
          ],
          "name": "stdout"
        }
      ]
    },
    {
      "cell_type": "code",
      "metadata": {
        "id": "1RpnnHNCXcwN",
        "colab": {
          "base_uri": "https://localhost:8080/",
          "height": 402
        },
        "outputId": "e5406030-b745-4fe1-f6f5-4381a74abdb9"
      },
      "source": [
        "b=y_test.to_frame()\n",
        "a = pd.DataFrame(y_predict,columns=[\"Predicted value\"],index=b.index)\n",
        "result = pd.concat([b, a], axis=1)\n",
        "result"
      ],
      "execution_count": 35,
      "outputs": [
        {
          "output_type": "execute_result",
          "data": {
            "text/html": [
              "<div>\n",
              "<style scoped>\n",
              "    .dataframe tbody tr th:only-of-type {\n",
              "        vertical-align: middle;\n",
              "    }\n",
              "\n",
              "    .dataframe tbody tr th {\n",
              "        vertical-align: top;\n",
              "    }\n",
              "\n",
              "    .dataframe thead th {\n",
              "        text-align: right;\n",
              "    }\n",
              "</style>\n",
              "<table border=\"1\" class=\"dataframe\">\n",
              "  <thead>\n",
              "    <tr style=\"text-align: right;\">\n",
              "      <th></th>\n",
              "      <th>Low</th>\n",
              "      <th>Predicted value</th>\n",
              "    </tr>\n",
              "  </thead>\n",
              "  <tbody>\n",
              "    <tr>\n",
              "      <th>2018-01-05</th>\n",
              "      <td>1320.300049</td>\n",
              "      <td>1311.934049</td>\n",
              "    </tr>\n",
              "    <tr>\n",
              "      <th>2018-01-08</th>\n",
              "      <td>1314.599976</td>\n",
              "      <td>1311.523589</td>\n",
              "    </tr>\n",
              "    <tr>\n",
              "      <th>2018-01-09</th>\n",
              "      <td>1309.599976</td>\n",
              "      <td>1301.338916</td>\n",
              "    </tr>\n",
              "    <tr>\n",
              "      <th>2018-01-10</th>\n",
              "      <td>1315.300049</td>\n",
              "      <td>1311.979164</td>\n",
              "    </tr>\n",
              "    <tr>\n",
              "      <th>2018-01-11</th>\n",
              "      <td>1316.300049</td>\n",
              "      <td>1308.726077</td>\n",
              "    </tr>\n",
              "    <tr>\n",
              "      <th>...</th>\n",
              "      <td>...</td>\n",
              "      <td>...</td>\n",
              "    </tr>\n",
              "    <tr>\n",
              "      <th>2020-12-23</th>\n",
              "      <td>1864.500000</td>\n",
              "      <td>1854.461881</td>\n",
              "    </tr>\n",
              "    <tr>\n",
              "      <th>2020-12-28</th>\n",
              "      <td>1873.699951</td>\n",
              "      <td>1882.791643</td>\n",
              "    </tr>\n",
              "    <tr>\n",
              "      <th>2020-12-29</th>\n",
              "      <td>1879.699951</td>\n",
              "      <td>1868.719973</td>\n",
              "    </tr>\n",
              "    <tr>\n",
              "      <th>2020-12-30</th>\n",
              "      <td>1877.300049</td>\n",
              "      <td>1867.384948</td>\n",
              "    </tr>\n",
              "    <tr>\n",
              "      <th>2020-12-31</th>\n",
              "      <td>1892.699951</td>\n",
              "      <td>1884.201244</td>\n",
              "    </tr>\n",
              "  </tbody>\n",
              "</table>\n",
              "<p>744 rows × 2 columns</p>\n",
              "</div>"
            ],
            "text/plain": [
              "                    Low  Predicted value\n",
              "2018-01-05  1320.300049      1311.934049\n",
              "2018-01-08  1314.599976      1311.523589\n",
              "2018-01-09  1309.599976      1301.338916\n",
              "2018-01-10  1315.300049      1311.979164\n",
              "2018-01-11  1316.300049      1308.726077\n",
              "...                 ...              ...\n",
              "2020-12-23  1864.500000      1854.461881\n",
              "2020-12-28  1873.699951      1882.791643\n",
              "2020-12-29  1879.699951      1868.719973\n",
              "2020-12-30  1877.300049      1867.384948\n",
              "2020-12-31  1892.699951      1884.201244\n",
              "\n",
              "[744 rows x 2 columns]"
            ]
          },
          "metadata": {
            "tags": []
          },
          "execution_count": 35
        }
      ]
    },
    {
      "cell_type": "code",
      "metadata": {
        "id": "D9GfZW3xXolM",
        "colab": {
          "base_uri": "https://localhost:8080/",
          "height": 625
        },
        "outputId": "0bbccfd2-31f4-4dda-b650-8c770eb618bd"
      },
      "source": [
        "# plotting\n",
        "plt.figure(figsize=(16,10))\n",
        "plt.plot(a, label=\"Predicted Close Price\")\n",
        "plt.plot(b, label=\"Testing Close Price\")\n",
        "plt.legend(loc='upper center', bbox_to_anchor=(0.5, -0.05), fancybox=True, shadow=True, ncol=2)\n",
        "plt.show()"
      ],
      "execution_count": 36,
      "outputs": [
        {
          "output_type": "display_data",
          "data": {
            "image/png": "[encoded data removed]",
            "text/plain": [
              "<Figure size 1152x720 with 1 Axes>"
            ]
          },
          "metadata": {
            "tags": [],
            "needs_background": "light"
          }
        }
      ]
    }
  ]
}