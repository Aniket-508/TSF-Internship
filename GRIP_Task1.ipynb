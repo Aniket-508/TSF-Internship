{
  "nbformat": 4,
  "nbformat_minor": 0,
  "metadata": {
    "colab": {
      "name": "GRIP-Task1",
      "provenance": [],
      "collapsed_sections": []
    },
    "kernelspec": {
      "name": "python3",
      "display_name": "Python 3"
    },
    "language_info": {
      "name": "python"
    }
  },
  "cells": [
    {
      "cell_type": "markdown",
      "metadata": {
        "id": "GSMY-3WsMgYP"
      },
      "source": [
        "# **Graduate Rotational Internship Program**\n",
        "\n",
        "## **The Sparks Foundation**\n",
        "\n",
        "## **Task - Prediction using Supervised ML**"
      ]
    },
    {
      "cell_type": "markdown",
      "metadata": {
        "id": "IKEbp3PdNFWe"
      },
      "source": [
        "**Name - Aniket Pawar**\n",
        "\n",
        "**Problem Statement - Predict the percentage of an student based on the no. of study hours.**"
      ]
    },
    {
      "cell_type": "code",
      "metadata": {
        "id": "rvbWoaCBN1vs"
      },
      "source": [
        "#Importing required libraries\n",
        "import numpy as np\n",
        "import pandas as pd\n",
        "import matplotlib.pyplot as plt\n",
        "import seaborn as sns\n",
        "%matplotlib inline"
      ],
      "execution_count": 1,
      "outputs": []
    },
    {
      "cell_type": "code",
      "metadata": {
        "id": "pxJebA1LN1zP",
        "colab": {
          "base_uri": "https://localhost:8080/",
          "height": 360
        },
        "outputId": "a47da9c2-7e85-48cf-c362-0d869b01a59d"
      },
      "source": [
        "#Importing Data \n",
        "data_url = \"http://bit.ly/w-data\"\n",
        "data_frame = pd.read_csv(data_url)\n",
        "print(\"importing successful\")\n",
        "data_frame.head(10)"
      ],
      "execution_count": 2,
      "outputs": [
        {
          "output_type": "stream",
          "text": [
            "importing successful\n"
          ],
          "name": "stdout"
        },
        {
          "output_type": "execute_result",
          "data": {
            "text/html": [
              "<div>\n",
              "<style scoped>\n",
              "    .dataframe tbody tr th:only-of-type {\n",
              "        vertical-align: middle;\n",
              "    }\n",
              "\n",
              "    .dataframe tbody tr th {\n",
              "        vertical-align: top;\n",
              "    }\n",
              "\n",
              "    .dataframe thead th {\n",
              "        text-align: right;\n",
              "    }\n",
              "</style>\n",
              "<table border=\"1\" class=\"dataframe\">\n",
              "  <thead>\n",
              "    <tr style=\"text-align: right;\">\n",
              "      <th></th>\n",
              "      <th>Hours</th>\n",
              "      <th>Scores</th>\n",
              "    </tr>\n",
              "  </thead>\n",
              "  <tbody>\n",
              "    <tr>\n",
              "      <th>0</th>\n",
              "      <td>2.5</td>\n",
              "      <td>21</td>\n",
              "    </tr>\n",
              "    <tr>\n",
              "      <th>1</th>\n",
              "      <td>5.1</td>\n",
              "      <td>47</td>\n",
              "    </tr>\n",
              "    <tr>\n",
              "      <th>2</th>\n",
              "      <td>3.2</td>\n",
              "      <td>27</td>\n",
              "    </tr>\n",
              "    <tr>\n",
              "      <th>3</th>\n",
              "      <td>8.5</td>\n",
              "      <td>75</td>\n",
              "    </tr>\n",
              "    <tr>\n",
              "      <th>4</th>\n",
              "      <td>3.5</td>\n",
              "      <td>30</td>\n",
              "    </tr>\n",
              "    <tr>\n",
              "      <th>5</th>\n",
              "      <td>1.5</td>\n",
              "      <td>20</td>\n",
              "    </tr>\n",
              "    <tr>\n",
              "      <th>6</th>\n",
              "      <td>9.2</td>\n",
              "      <td>88</td>\n",
              "    </tr>\n",
              "    <tr>\n",
              "      <th>7</th>\n",
              "      <td>5.5</td>\n",
              "      <td>60</td>\n",
              "    </tr>\n",
              "    <tr>\n",
              "      <th>8</th>\n",
              "      <td>8.3</td>\n",
              "      <td>81</td>\n",
              "    </tr>\n",
              "    <tr>\n",
              "      <th>9</th>\n",
              "      <td>2.7</td>\n",
              "      <td>25</td>\n",
              "    </tr>\n",
              "  </tbody>\n",
              "</table>\n",
              "</div>"
            ],
            "text/plain": [
              "   Hours  Scores\n",
              "0    2.5      21\n",
              "1    5.1      47\n",
              "2    3.2      27\n",
              "3    8.5      75\n",
              "4    3.5      30\n",
              "5    1.5      20\n",
              "6    9.2      88\n",
              "7    5.5      60\n",
              "8    8.3      81\n",
              "9    2.7      25"
            ]
          },
          "metadata": {
            "tags": []
          },
          "execution_count": 2
        }
      ]
    },
    {
      "cell_type": "markdown",
      "metadata": {
        "id": "3kCTzii_N9lX"
      },
      "source": [
        "Visualizing Data"
      ]
    },
    {
      "cell_type": "code",
      "metadata": {
        "id": "KR87biXhN16B",
        "colab": {
          "base_uri": "https://localhost:8080/",
          "height": 295
        },
        "outputId": "9f24e5a5-d3d5-46b6-ef27-a9126af98377"
      },
      "source": [
        "#Plotting of data using matplotlib\n",
        "data_frame.plot(x = 'Hours', y = 'Scores', style = 'o')\n",
        "plt.title(\"Hours vs Percentage\")\n",
        "plt.xlabel(\"Hours Studied\")\n",
        "plt.ylabel(\"Percentage Scored\")\n",
        "plt.show()"
      ],
      "execution_count": 3,
      "outputs": [
        {
          "output_type": "display_data",
          "data": {
            "image/png": "[encoded data removed]",
            "text/plain": [
              "<Figure size 432x288 with 1 Axes>"
            ]
          },
          "metadata": {
            "tags": [],
            "needs_background": "light"
          }
        }
      ]
    },
    {
      "cell_type": "code",
      "metadata": {
        "id": "PaLQUUY2OZTO",
        "colab": {
          "base_uri": "https://localhost:8080/",
          "height": 286
        },
        "outputId": "1afe5375-80ea-44a7-be09-c5022bbd2672"
      },
      "source": [
        "sns.heatmap(data_frame.corr())"
      ],
      "execution_count": 4,
      "outputs": [
        {
          "output_type": "execute_result",
          "data": {
            "text/plain": [
              "<matplotlib.axes._subplots.AxesSubplot at 0x7f2cba601ad0>"
            ]
          },
          "metadata": {
            "tags": []
          },
          "execution_count": 4
        },
        {
          "output_type": "display_data",
          "data": {
            "image/png": "[encoded data removed]",
            "text/plain": [
              "<Figure size 432x288 with 2 Axes>"
            ]
          },
          "metadata": {
            "tags": [],
            "needs_background": "light"
          }
        }
      ]
    },
    {
      "cell_type": "code",
      "metadata": {
        "id": "TQvQGTirOZNt",
        "colab": {
          "base_uri": "https://localhost:8080/"
        },
        "outputId": "75956122-5a20-4009-d755-532823a1e799"
      },
      "source": [
        "#Assigning Testing Data and Training Data using sklearn\n",
        "X = data_frame.iloc[:, :-1].values  \n",
        "y = data_frame.iloc[:, 1].values\n",
        "from sklearn.model_selection import train_test_split\n",
        "X_train,X_test,y_train,y_test = train_test_split(X, y, test_size=0.20, random_state=0)\n",
        "print(X_train.shape)\n",
        "print(X_test.shape)"
      ],
      "execution_count": 7,
      "outputs": [
        {
          "output_type": "stream",
          "text": [
            "(20, 1)\n",
            "(5, 1)\n"
          ],
          "name": "stdout"
        }
      ]
    },
    {
      "cell_type": "code",
      "metadata": {
        "id": "tyuzHhnWOZKu",
        "colab": {
          "base_uri": "https://localhost:8080/"
        },
        "outputId": "94cd93c2-3fa8-46da-8e27-53206ee45a84"
      },
      "source": [
        "#Training the DataSet\n",
        "from sklearn.linear_model import LinearRegression  \n",
        "regressor = LinearRegression()  \n",
        "regressor.fit(X_train, y_train) \n",
        "print(\"Training stage complete\")"
      ],
      "execution_count": 8,
      "outputs": [
        {
          "output_type": "stream",
          "text": [
            "Training stage complete\n"
          ],
          "name": "stdout"
        }
      ]
    },
    {
      "cell_type": "code",
      "metadata": {
        "id": "HsxYhrzYOjFL",
        "colab": {
          "base_uri": "https://localhost:8080/",
          "height": 265
        },
        "outputId": "48e70c1b-9275-488a-db86-2be2b590eab9"
      },
      "source": [
        "#Plotting the regression line\n",
        "line = regressor.coef_*X+regressor.intercept_ # y = mx + c\n",
        "plt.scatter(X, y)\n",
        "plt.plot(X, line, color='red')\n",
        "plt.text(6.2,25,(f\"Intercept = {round(regressor.intercept_)}\"))\n",
        "plt.text(6.2,20,(f\"Slope = {regressor.coef_}\"))\n",
        "plt.show()"
      ],
      "execution_count": 9,
      "outputs": [
        {
          "output_type": "display_data",
          "data": {
            "image/png": "[encoded data removed]",
            "text/plain": [
              "<Figure size 432x288 with 1 Axes>"
            ]
          },
          "metadata": {
            "tags": [],
            "needs_background": "light"
          }
        }
      ]
    },
    {
      "cell_type": "markdown",
      "metadata": {
        "id": "mGCjmDmgO7cE"
      },
      "source": [
        "We see that the regressor line is quite close to the data points (scores), which indicates the model is quite well trained to give desired results"
      ]
    },
    {
      "cell_type": "code",
      "metadata": {
        "id": "gic7foKgOi-b",
        "colab": {
          "base_uri": "https://localhost:8080/"
        },
        "outputId": "a53c3176-6dad-4840-eaef-5699ab1d81ed"
      },
      "source": [
        "print(f\"Testing Data : {X_test}\")\n",
        "y_pred = regressor.predict(X_test)"
      ],
      "execution_count": 10,
      "outputs": [
        {
          "output_type": "stream",
          "text": [
            "Testing Data : [[1.5]\n",
            " [3.2]\n",
            " [7.4]\n",
            " [2.5]\n",
            " [5.9]]\n"
          ],
          "name": "stdout"
        }
      ]
    },
    {
      "cell_type": "code",
      "metadata": {
        "id": "og3Z5fgJOm3T",
        "colab": {
          "base_uri": "https://localhost:8080/"
        },
        "outputId": "50c428e4-7114-4b59-955f-508d10c86694"
      },
      "source": [
        "print(f\"Predicted Data : {y_pred}\")"
      ],
      "execution_count": 11,
      "outputs": [
        {
          "output_type": "stream",
          "text": [
            "Predicted Data : [16.88414476 33.73226078 75.357018   26.79480124 60.49103328]\n"
          ],
          "name": "stdout"
        }
      ]
    },
    {
      "cell_type": "code",
      "metadata": {
        "id": "0v6WqGlMOm0Q",
        "colab": {
          "base_uri": "https://localhost:8080/",
          "height": 195
        },
        "outputId": "0c7f5465-f331-46e1-8615-0ef5eacb0110"
      },
      "source": [
        "df = pd.DataFrame({'Actual': y_test.flatten(), 'Predicted': y_pred.flatten()})\n",
        "df"
      ],
      "execution_count": 12,
      "outputs": [
        {
          "output_type": "execute_result",
          "data": {
            "text/html": [
              "<div>\n",
              "<style scoped>\n",
              "    .dataframe tbody tr th:only-of-type {\n",
              "        vertical-align: middle;\n",
              "    }\n",
              "\n",
              "    .dataframe tbody tr th {\n",
              "        vertical-align: top;\n",
              "    }\n",
              "\n",
              "    .dataframe thead th {\n",
              "        text-align: right;\n",
              "    }\n",
              "</style>\n",
              "<table border=\"1\" class=\"dataframe\">\n",
              "  <thead>\n",
              "    <tr style=\"text-align: right;\">\n",
              "      <th></th>\n",
              "      <th>Actual</th>\n",
              "      <th>Predicted</th>\n",
              "    </tr>\n",
              "  </thead>\n",
              "  <tbody>\n",
              "    <tr>\n",
              "      <th>0</th>\n",
              "      <td>20</td>\n",
              "      <td>16.884145</td>\n",
              "    </tr>\n",
              "    <tr>\n",
              "      <th>1</th>\n",
              "      <td>27</td>\n",
              "      <td>33.732261</td>\n",
              "    </tr>\n",
              "    <tr>\n",
              "      <th>2</th>\n",
              "      <td>69</td>\n",
              "      <td>75.357018</td>\n",
              "    </tr>\n",
              "    <tr>\n",
              "      <th>3</th>\n",
              "      <td>30</td>\n",
              "      <td>26.794801</td>\n",
              "    </tr>\n",
              "    <tr>\n",
              "      <th>4</th>\n",
              "      <td>62</td>\n",
              "      <td>60.491033</td>\n",
              "    </tr>\n",
              "  </tbody>\n",
              "</table>\n",
              "</div>"
            ],
            "text/plain": [
              "   Actual  Predicted\n",
              "0      20  16.884145\n",
              "1      27  33.732261\n",
              "2      69  75.357018\n",
              "3      30  26.794801\n",
              "4      62  60.491033"
            ]
          },
          "metadata": {
            "tags": []
          },
          "execution_count": 12
        }
      ]
    },
    {
      "cell_type": "code",
      "metadata": {
        "id": "HN1zGoDgOmxf",
        "colab": {
          "base_uri": "https://localhost:8080/",
          "height": 425
        },
        "outputId": "7af48056-d2b2-4afb-961c-ca224f7ccb1c"
      },
      "source": [
        "df1 = df.head(25)\n",
        "df1.plot(kind='bar',figsize=(10,7),color={'Actual':'green','Predicted':'red'})\n",
        "\n",
        "plt.show()"
      ],
      "execution_count": 13,
      "outputs": [
        {
          "output_type": "display_data",
          "data": {
            "image/png": "[encoded data removed]",
            "text/plain": [
              "<Figure size 720x504 with 1 Axes>"
            ]
          },
          "metadata": {
            "tags": [],
            "needs_background": "light"
          }
        }
      ]
    },
    {
      "cell_type": "markdown",
      "metadata": {
        "id": "Ymej1bCjPBPJ"
      },
      "source": [
        "Now that the model has been trained and given desired results, we can give it our own data and make our own predictions"
      ]
    },
    {
      "cell_type": "code",
      "metadata": {
        "id": "w6orREp8Ot7j",
        "colab": {
          "base_uri": "https://localhost:8080/"
        },
        "outputId": "98254954-b78a-477c-8699-4dd85366803c"
      },
      "source": [
        "# Prediction\n",
        "hours = 9.25\n",
        "test = np.array([hours])\n",
        "test = test.reshape(-1,1)\n",
        "own_predict = regressor.predict(test)\n",
        "print(f\"No of Hours = {hours}\")\n",
        "print(f\"Predicted Score = {own_predict}%\")"
      ],
      "execution_count": 14,
      "outputs": [
        {
          "output_type": "stream",
          "text": [
            "No of Hours = 9.25\n",
            "Predicted Score = [93.69173249]%\n"
          ],
          "name": "stdout"
        }
      ]
    },
    {
      "cell_type": "markdown",
      "metadata": {
        "id": "azvoZBAQPD0l"
      },
      "source": [
        "Finding performance of the model by using the following metrics"
      ]
    },
    {
      "cell_type": "code",
      "metadata": {
        "id": "95SErXtvOt3B",
        "colab": {
          "base_uri": "https://localhost:8080/"
        },
        "outputId": "694de734-b999-469e-c4a2-988a18e201e2"
      },
      "source": [
        "from sklearn import metrics\n",
        "\n",
        "print(\"Mean Absolute Error : \", metrics.mean_absolute_error(y_test,y_pred))\n",
        "print(\"Mean Squared Error : \", metrics.mean_squared_error(y_test,y_pred))\n",
        "print(\"RMSE : \", np.sqrt(metrics.mean_squared_error(y_test,y_pred)))\n",
        "print(\"Explained Variance Score : \", metrics.explained_variance_score(y_test,y_pred))\n",
        "print(\"Maximum Error : \", metrics.max_error(y_test,y_pred))"
      ],
      "execution_count": 15,
      "outputs": [
        {
          "output_type": "stream",
          "text": [
            "Mean Absolute Error :  4.183859899002982\n",
            "Mean Squared Error :  21.598769307217456\n",
            "RMSE :  4.647447612100373\n",
            "Explained Variance Score :  0.9482829156738145\n",
            "Maximum Error :  6.732260779489835\n"
          ],
          "name": "stdout"
        }
      ]
    }
  ]
}